{
 "cells": [
  {
   "cell_type": "code",
   "execution_count": 1,
   "metadata": {},
   "outputs": [],
   "source": [
    "import pandas as pd\n"
   ]
  },
  {
   "cell_type": "code",
   "execution_count": 2,
   "metadata": {},
   "outputs": [],
   "source": [
    "#import the data\n",
    "mimic_path='/Users/jieche/Desktop/machine learning/mimic-iv-2.2/'"
   ]
  },
  {
   "cell_type": "code",
   "execution_count": 3,
   "metadata": {},
   "outputs": [],
   "source": [
    "chunk_size = 1000000\n",
    "\n",
    "# Read the CSV file in chunks and save each chunk as a CSV file\n",
    "i = 0\n",
    "for chunk in pd.read_csv(mimic_path + '/icu/chartevents.csv.gz', compression='gzip', chunksize=chunk_size):\n",
    "    chunk.drop(['stay_id', 'caregiver_id', 'warning'], axis='columns', inplace=True)\n",
    "    chunk.to_csv(f'chunk_{i}.csv', index=False)\n",
    "    i += 1\n",
    "\n",
    "# Read and concatenate the saved chunks into a single dataframe\n",
    "chunks = []\n",
    "for i in range(i):\n",
    "    chunk = pd.read_csv(f'chunk_{i}.csv')\n",
    "    chunks.append(chunk)\n",
    "\n",
    "chartevents = pd.concat(chunks, ignore_index=True)\n"
   ]
  },
  {
   "cell_type": "code",
   "execution_count": 4,
   "metadata": {},
   "outputs": [],
   "source": [
    "import pandas as pd\n",
    "\n",
    "# 定义要筛选的itemid\n",
    "items_to_select = [225401, 225437, 225444, 225451, 225454, 225814,\n",
    "                   225816, 225817, 225818, 225722, 225723, 225724, 225725, 225726,\n",
    "                   225727, 225728, 225729, 225730, 225731, 225732, 225733, 227726,\n",
    "                   70006, 70011, 70012, 70013, 70014, 70016, 70024, 70037, 70041,\n",
    "                   225734, 225735, 225736, 225768, 70055, 70057, 70060, 70063, 70075,\n",
    "                   70083, 226131, 80220]\n",
    "\n",
    "# 定义一个空的DataFrame，用于保存筛选后的数据\n",
    "selected_data = pd.DataFrame()\n",
    "\n",
    "# 遍历所有的chunk，逐个读取并筛选数据\n",
    "for i in range(1, 314):\n",
    "    # 读取当前chunk\n",
    "    filename = 'chunk_{}.csv'.format(i)\n",
    "    df = pd.read_csv(filename)\n",
    "    \n",
    "    # 筛选指定的itemid\n",
    "    df_selected = df[df['itemid'].isin(items_to_select)]\n",
    "    \n",
    "    # 将筛选后的数据添加到空的DataFrame中\n",
    "    selected_data = pd.concat([selected_data, df_selected])\n",
    "    \n",
    "    # 处理筛选后的数据...\n",
    "    ...\n"
   ]
  },
  {
   "cell_type": "code",
   "execution_count": 5,
   "metadata": {},
   "outputs": [
    {
     "name": "stdout",
     "output_type": "stream",
     "text": [
      "<class 'pandas.core.frame.DataFrame'>\n",
      "Int64Index: 28194 entries, 5389 to 611372\n",
      "Data columns (total 8 columns):\n",
      " #   Column      Non-Null Count  Dtype  \n",
      "---  ------      --------------  -----  \n",
      " 0   subject_id  28194 non-null  int64  \n",
      " 1   hadm_id     28194 non-null  int64  \n",
      " 2   charttime   28194 non-null  object \n",
      " 3   storetime   28194 non-null  object \n",
      " 4   itemid      28194 non-null  int64  \n",
      " 5   value       28194 non-null  object \n",
      " 6   valuenum    28194 non-null  float64\n",
      " 7   valueuom    0 non-null      object \n",
      "dtypes: float64(1), int64(3), object(4)\n",
      "memory usage: 1.9+ MB\n"
     ]
    }
   ],
   "source": [
    "selected_data.info()"
   ]
  },
  {
   "cell_type": "code",
   "execution_count": 6,
   "metadata": {},
   "outputs": [
    {
     "data": {
      "text/html": [
       "<div>\n",
       "<style scoped>\n",
       "    .dataframe tbody tr th:only-of-type {\n",
       "        vertical-align: middle;\n",
       "    }\n",
       "\n",
       "    .dataframe tbody tr th {\n",
       "        vertical-align: top;\n",
       "    }\n",
       "\n",
       "    .dataframe thead th {\n",
       "        text-align: right;\n",
       "    }\n",
       "</style>\n",
       "<table border=\"1\" class=\"dataframe\">\n",
       "  <thead>\n",
       "    <tr style=\"text-align: right;\">\n",
       "      <th></th>\n",
       "      <th>subject_id</th>\n",
       "      <th>hadm_id</th>\n",
       "      <th>charttime</th>\n",
       "      <th>storetime</th>\n",
       "      <th>itemid</th>\n",
       "      <th>value</th>\n",
       "      <th>valuenum</th>\n",
       "      <th>valueuom</th>\n",
       "    </tr>\n",
       "  </thead>\n",
       "  <tbody>\n",
       "    <tr>\n",
       "      <th>5389</th>\n",
       "      <td>10027602</td>\n",
       "      <td>28166872</td>\n",
       "      <td>2201-10-31 09:00:00</td>\n",
       "      <td>2201-10-31 09:54:00</td>\n",
       "      <td>225722</td>\n",
       "      <td>0</td>\n",
       "      <td>0.0</td>\n",
       "      <td>NaN</td>\n",
       "    </tr>\n",
       "    <tr>\n",
       "      <th>5795</th>\n",
       "      <td>10027602</td>\n",
       "      <td>28166872</td>\n",
       "      <td>2201-10-31 15:00:00</td>\n",
       "      <td>2201-10-31 15:05:00</td>\n",
       "      <td>225722</td>\n",
       "      <td>0</td>\n",
       "      <td>0.0</td>\n",
       "      <td>NaN</td>\n",
       "    </tr>\n",
       "    <tr>\n",
       "      <th>5832</th>\n",
       "      <td>10027602</td>\n",
       "      <td>28166872</td>\n",
       "      <td>2201-10-31 15:15:00</td>\n",
       "      <td>2201-10-31 15:06:00</td>\n",
       "      <td>226131</td>\n",
       "      <td>0</td>\n",
       "      <td>0.0</td>\n",
       "      <td>NaN</td>\n",
       "    </tr>\n",
       "    <tr>\n",
       "      <th>30497</th>\n",
       "      <td>10027730</td>\n",
       "      <td>23954590</td>\n",
       "      <td>2165-07-11 10:03:00</td>\n",
       "      <td>2165-07-11 12:04:00</td>\n",
       "      <td>225731</td>\n",
       "      <td>0</td>\n",
       "      <td>0.0</td>\n",
       "      <td>NaN</td>\n",
       "    </tr>\n",
       "    <tr>\n",
       "      <th>42131</th>\n",
       "      <td>10029291</td>\n",
       "      <td>22205327</td>\n",
       "      <td>2123-03-02 20:00:00</td>\n",
       "      <td>2123-03-03 00:21:00</td>\n",
       "      <td>225729</td>\n",
       "      <td>0</td>\n",
       "      <td>0.0</td>\n",
       "      <td>NaN</td>\n",
       "    </tr>\n",
       "  </tbody>\n",
       "</table>\n",
       "</div>"
      ],
      "text/plain": [
       "       subject_id   hadm_id            charttime            storetime  itemid  \\\n",
       "5389     10027602  28166872  2201-10-31 09:00:00  2201-10-31 09:54:00  225722   \n",
       "5795     10027602  28166872  2201-10-31 15:00:00  2201-10-31 15:05:00  225722   \n",
       "5832     10027602  28166872  2201-10-31 15:15:00  2201-10-31 15:06:00  226131   \n",
       "30497    10027730  23954590  2165-07-11 10:03:00  2165-07-11 12:04:00  225731   \n",
       "42131    10029291  22205327  2123-03-02 20:00:00  2123-03-03 00:21:00  225729   \n",
       "\n",
       "      value  valuenum valueuom  \n",
       "5389      0       0.0      NaN  \n",
       "5795      0       0.0      NaN  \n",
       "5832      0       0.0      NaN  \n",
       "30497     0       0.0      NaN  \n",
       "42131     0       0.0      NaN  "
      ]
     },
     "execution_count": 6,
     "metadata": {},
     "output_type": "execute_result"
    }
   ],
   "source": [
    "selected_data.head()"
   ]
  },
  {
   "cell_type": "code",
   "execution_count": 11,
   "metadata": {},
   "outputs": [
    {
     "name": "stdout",
     "output_type": "stream",
     "text": [
      "        subject_id   hadm_id            charttime            storetime  \\\n",
      "26800     17717614  24272644  2133-05-23 20:24:00  2133-05-23 20:24:00   \n",
      "209232    13808136  26406341  2136-12-27 10:25:00  2136-12-27 10:25:00   \n",
      "757627    12885965  27710782  2163-01-12 16:00:00  2163-01-12 16:08:00   \n",
      "404267    14361828  28861438  2194-07-10 11:25:00  2194-07-10 11:25:00   \n",
      "396612    18252574  27222007  2150-10-14 08:06:00  2150-10-14 08:07:00   \n",
      "742138    16483860  24545691  2190-08-20 19:46:00  2190-08-20 19:46:00   \n",
      "704704    14399359  28122689  2143-11-15 04:00:00  2143-11-15 06:21:00   \n",
      "89162     17190208  26495862  2196-11-15 17:25:00  2196-11-15 17:25:00   \n",
      "714032    17773309  26323835  2113-03-28 00:37:00  2113-03-28 00:37:00   \n",
      "537369    12719912  26680768  2146-05-21 00:47:00  2146-05-21 00:47:00   \n",
      "885098    17277379  22840721  2120-04-22 13:53:00  2120-04-22 13:54:00   \n",
      "30939     11116316  21266774  2165-04-10 00:19:00  2165-04-10 00:19:00   \n",
      "495778    14391648  25754599  2115-02-19 00:44:00  2115-02-19 00:44:00   \n",
      "442391    15701559  20996763  2131-07-16 00:15:00  2131-07-16 00:15:00   \n",
      "726102    10933772  21418086  2142-06-11 12:00:00  2142-06-11 12:36:00   \n",
      "\n",
      "        itemid value  valuenum valueuom  \n",
      "26800   225722     0       0.0      NaN  \n",
      "209232  227726     1       1.0      NaN  \n",
      "757627  225723     0       0.0      NaN  \n",
      "404267  225734     1       1.0      NaN  \n",
      "396612  225722     0       0.0      NaN  \n",
      "742138  225722     0       0.0      NaN  \n",
      "704704  225722     0       0.0      NaN  \n",
      "89162   225726     0       0.0      NaN  \n",
      "714032  225724     0       0.0      NaN  \n",
      "537369  225722     0       0.0      NaN  \n",
      "885098  225724     0       0.0      NaN  \n",
      "30939   225722     0       0.0      NaN  \n",
      "495778  225729     0       0.0      NaN  \n",
      "442391  225729     1       1.0      NaN  \n",
      "726102  225729     0       0.0      NaN  \n"
     ]
    }
   ],
   "source": [
    "# 随机选取5行数据\n",
    "sample_data = selected_data.sample(n=15)\n",
    "\n",
    "# 输出结果\n",
    "print(sample_data)\n"
   ]
  },
  {
   "cell_type": "code",
   "execution_count": 16,
   "metadata": {},
   "outputs": [
    {
     "name": "stdout",
     "output_type": "stream",
     "text": [
      "0    46\n",
      "1     8\n",
      "Name: value, dtype: int64\n"
     ]
    }
   ],
   "source": [
    "# 筛选出itemid为225734的数据\n",
    "data_225734 = selected_data[selected_data['itemid'] == 225734]\n",
    "\n",
    "# 计算数值分布\n",
    "value_counts = data_225734['value'].value_counts()\n",
    "\n",
    "# 输出结果\n",
    "print(value_counts)\n"
   ]
  },
  {
   "cell_type": "code",
   "execution_count": 15,
   "metadata": {},
   "outputs": [
    {
     "name": "stdout",
     "output_type": "stream",
     "text": [
      "共有16个不同的itemid值\n",
      "每个itemid值的出现次数如下：\n",
      "225722    9317\n",
      "225729    7810\n",
      "225732    4024\n",
      "225724    2341\n",
      "225725    1283\n",
      "225730    1100\n",
      "225723     579\n",
      "226131     472\n",
      "225728     323\n",
      "227726     275\n",
      "225735     215\n",
      "225768     204\n",
      "225726     135\n",
      "225734      54\n",
      "225731      44\n",
      "225736      18\n",
      "Name: itemid, dtype: int64\n"
     ]
    }
   ],
   "source": [
    "# 统计每个itemid值出现的次数\n",
    "item_counts = selected_data['itemid'].value_counts()\n",
    "\n",
    "# 统计不同的itemid值的数量\n",
    "num_items = len(item_counts)\n",
    "\n",
    "# 输出结果\n",
    "print(\"共有{}个不同的itemid值\".format(num_items))\n",
    "print(\"每个itemid值的出现次数如下：\")\n",
    "print(item_counts)\n"
   ]
  },
  {
   "cell_type": "code",
   "execution_count": 22,
   "metadata": {},
   "outputs": [],
   "source": [
    "selected_data =selected_data.drop(['storetime','valueuom','valuenum'], axis=1)"
   ]
  },
  {
   "cell_type": "code",
   "execution_count": 43,
   "metadata": {},
   "outputs": [
    {
     "name": "stdout",
     "output_type": "stream",
     "text": [
      "Series([], Name: value, dtype: int64)\n"
     ]
    }
   ],
   "source": [
    "# 筛选出itemid为225734的数据\n",
    "data_225734 = selected_data[selected_data['itemid'] == 225734]\n",
    "\n",
    "# 计算数值分布\n",
    "value_counts = data_225734['value'].value_counts()\n",
    "\n",
    "# 输出结果\n",
    "print(value_counts)\n"
   ]
  },
  {
   "cell_type": "code",
   "execution_count": 24,
   "metadata": {},
   "outputs": [],
   "source": [
    "selected_data = selected_data.reset_index(drop=True)\n"
   ]
  },
  {
   "cell_type": "code",
   "execution_count": 25,
   "metadata": {},
   "outputs": [
    {
     "data": {
      "text/html": [
       "<div>\n",
       "<style scoped>\n",
       "    .dataframe tbody tr th:only-of-type {\n",
       "        vertical-align: middle;\n",
       "    }\n",
       "\n",
       "    .dataframe tbody tr th {\n",
       "        vertical-align: top;\n",
       "    }\n",
       "\n",
       "    .dataframe thead th {\n",
       "        text-align: right;\n",
       "    }\n",
       "</style>\n",
       "<table border=\"1\" class=\"dataframe\">\n",
       "  <thead>\n",
       "    <tr style=\"text-align: right;\">\n",
       "      <th></th>\n",
       "      <th>subject_id</th>\n",
       "      <th>hadm_id</th>\n",
       "      <th>charttime</th>\n",
       "      <th>itemid</th>\n",
       "      <th>value</th>\n",
       "    </tr>\n",
       "  </thead>\n",
       "  <tbody>\n",
       "    <tr>\n",
       "      <th>0</th>\n",
       "      <td>10027602</td>\n",
       "      <td>28166872</td>\n",
       "      <td>2201-10-31 09:00:00</td>\n",
       "      <td>225722</td>\n",
       "      <td>0</td>\n",
       "    </tr>\n",
       "    <tr>\n",
       "      <th>1</th>\n",
       "      <td>10027602</td>\n",
       "      <td>28166872</td>\n",
       "      <td>2201-10-31 15:00:00</td>\n",
       "      <td>225722</td>\n",
       "      <td>0</td>\n",
       "    </tr>\n",
       "    <tr>\n",
       "      <th>2</th>\n",
       "      <td>10027602</td>\n",
       "      <td>28166872</td>\n",
       "      <td>2201-10-31 15:15:00</td>\n",
       "      <td>226131</td>\n",
       "      <td>0</td>\n",
       "    </tr>\n",
       "    <tr>\n",
       "      <th>3</th>\n",
       "      <td>10027730</td>\n",
       "      <td>23954590</td>\n",
       "      <td>2165-07-11 10:03:00</td>\n",
       "      <td>225731</td>\n",
       "      <td>0</td>\n",
       "    </tr>\n",
       "    <tr>\n",
       "      <th>4</th>\n",
       "      <td>10029291</td>\n",
       "      <td>22205327</td>\n",
       "      <td>2123-03-02 20:00:00</td>\n",
       "      <td>225729</td>\n",
       "      <td>0</td>\n",
       "    </tr>\n",
       "  </tbody>\n",
       "</table>\n",
       "</div>"
      ],
      "text/plain": [
       "   subject_id   hadm_id            charttime  itemid value\n",
       "0    10027602  28166872  2201-10-31 09:00:00  225722     0\n",
       "1    10027602  28166872  2201-10-31 15:00:00  225722     0\n",
       "2    10027602  28166872  2201-10-31 15:15:00  226131     0\n",
       "3    10027730  23954590  2165-07-11 10:03:00  225731     0\n",
       "4    10029291  22205327  2123-03-02 20:00:00  225729     0"
      ]
     },
     "execution_count": 25,
     "metadata": {},
     "output_type": "execute_result"
    }
   ],
   "source": [
    "selected_data.head()"
   ]
  },
  {
   "cell_type": "code",
   "execution_count": 27,
   "metadata": {},
   "outputs": [
    {
     "data": {
      "text/plain": [
       "225722    9317\n",
       "225729    7810\n",
       "225732    4024\n",
       "225724    2341\n",
       "225725    1283\n",
       "225730    1100\n",
       "225723     579\n",
       "226131     472\n",
       "225728     323\n",
       "227726     275\n",
       "225735     215\n",
       "225768     204\n",
       "225726     135\n",
       "225734      54\n",
       "225731      44\n",
       "225736      18\n",
       "Name: itemid, dtype: int64"
      ]
     },
     "execution_count": 27,
     "metadata": {},
     "output_type": "execute_result"
    }
   ],
   "source": [
    "selected_data['itemid'].value_counts()"
   ]
  },
  {
   "cell_type": "code",
   "execution_count": null,
   "metadata": {},
   "outputs": [],
   "source": [
    "selected_data.to_csv('chartresults.csv', index=False)"
   ]
  },
  {
   "cell_type": "code",
   "execution_count": 29,
   "metadata": {},
   "outputs": [],
   "source": [
    "chartresults=pd.read_csv('chartresults.csv')"
   ]
  },
  {
   "cell_type": "code",
   "execution_count": 30,
   "metadata": {},
   "outputs": [
    {
     "data": {
      "text/html": [
       "<div>\n",
       "<style scoped>\n",
       "    .dataframe tbody tr th:only-of-type {\n",
       "        vertical-align: middle;\n",
       "    }\n",
       "\n",
       "    .dataframe tbody tr th {\n",
       "        vertical-align: top;\n",
       "    }\n",
       "\n",
       "    .dataframe thead th {\n",
       "        text-align: right;\n",
       "    }\n",
       "</style>\n",
       "<table border=\"1\" class=\"dataframe\">\n",
       "  <thead>\n",
       "    <tr style=\"text-align: right;\">\n",
       "      <th></th>\n",
       "      <th>subject_id</th>\n",
       "      <th>hadm_id</th>\n",
       "      <th>charttime</th>\n",
       "      <th>itemid</th>\n",
       "      <th>value</th>\n",
       "    </tr>\n",
       "  </thead>\n",
       "  <tbody>\n",
       "    <tr>\n",
       "      <th>0</th>\n",
       "      <td>10027602</td>\n",
       "      <td>28166872</td>\n",
       "      <td>2201-10-31 09:00:00</td>\n",
       "      <td>225722</td>\n",
       "      <td>0</td>\n",
       "    </tr>\n",
       "    <tr>\n",
       "      <th>1</th>\n",
       "      <td>10027602</td>\n",
       "      <td>28166872</td>\n",
       "      <td>2201-10-31 15:00:00</td>\n",
       "      <td>225722</td>\n",
       "      <td>0</td>\n",
       "    </tr>\n",
       "    <tr>\n",
       "      <th>2</th>\n",
       "      <td>10027602</td>\n",
       "      <td>28166872</td>\n",
       "      <td>2201-10-31 15:15:00</td>\n",
       "      <td>226131</td>\n",
       "      <td>0</td>\n",
       "    </tr>\n",
       "    <tr>\n",
       "      <th>3</th>\n",
       "      <td>10027730</td>\n",
       "      <td>23954590</td>\n",
       "      <td>2165-07-11 10:03:00</td>\n",
       "      <td>225731</td>\n",
       "      <td>0</td>\n",
       "    </tr>\n",
       "    <tr>\n",
       "      <th>4</th>\n",
       "      <td>10029291</td>\n",
       "      <td>22205327</td>\n",
       "      <td>2123-03-02 20:00:00</td>\n",
       "      <td>225729</td>\n",
       "      <td>0</td>\n",
       "    </tr>\n",
       "  </tbody>\n",
       "</table>\n",
       "</div>"
      ],
      "text/plain": [
       "   subject_id   hadm_id            charttime  itemid  value\n",
       "0    10027602  28166872  2201-10-31 09:00:00  225722      0\n",
       "1    10027602  28166872  2201-10-31 15:00:00  225722      0\n",
       "2    10027602  28166872  2201-10-31 15:15:00  226131      0\n",
       "3    10027730  23954590  2165-07-11 10:03:00  225731      0\n",
       "4    10029291  22205327  2123-03-02 20:00:00  225729      0"
      ]
     },
     "execution_count": 30,
     "metadata": {},
     "output_type": "execute_result"
    }
   ],
   "source": [
    "chartresults.head()"
   ]
  },
  {
   "cell_type": "code",
   "execution_count": 31,
   "metadata": {},
   "outputs": [
    {
     "name": "stdout",
     "output_type": "stream",
     "text": [
      "<class 'pandas.core.frame.DataFrame'>\n",
      "RangeIndex: 28194 entries, 0 to 28193\n",
      "Data columns (total 5 columns):\n",
      " #   Column      Non-Null Count  Dtype \n",
      "---  ------      --------------  ----- \n",
      " 0   subject_id  28194 non-null  int64 \n",
      " 1   hadm_id     28194 non-null  int64 \n",
      " 2   charttime   28194 non-null  object\n",
      " 3   itemid      28194 non-null  int64 \n",
      " 4   value       28194 non-null  int64 \n",
      "dtypes: int64(4), object(1)\n",
      "memory usage: 1.1+ MB\n"
     ]
    }
   ],
   "source": [
    "chartresults.info()"
   ]
  },
  {
   "cell_type": "code",
   "execution_count": 45,
   "metadata": {},
   "outputs": [
    {
     "name": "stdout",
     "output_type": "stream",
     "text": [
      "0    9044\n",
      "1     273\n",
      "Name: value, dtype: int64\n"
     ]
    }
   ],
   "source": [
    "# 筛选出itemid为225734的数据\n",
    "data_225734 = chartresults[chartresults['itemid'] == 225722]\n",
    "\n",
    "# 计算数值分布\n",
    "value_counts = data_225734['value'].value_counts()\n",
    "\n",
    "# 输出结果\n",
    "print(value_counts)\n"
   ]
  },
  {
   "cell_type": "code",
   "execution_count": 32,
   "metadata": {},
   "outputs": [
    {
     "data": {
      "text/plain": [
       "Cul_Arterial    9317\n",
       "Cul_Lumen       7810\n",
       "Cul_PICC        4024\n",
       "Cul_Cordis      2341\n",
       "Cul_Catheter    1283\n",
       "Cul_PA          1100\n",
       "225723           579\n",
       "226131           472\n",
       "225728           323\n",
       "227726           275\n",
       "225735           215\n",
       "225768           204\n",
       "225726           135\n",
       "225734            54\n",
       "225731            44\n",
       "225736            18\n",
       "Name: itemid, dtype: int64"
      ]
     },
     "execution_count": 32,
     "metadata": {},
     "output_type": "execute_result"
    }
   ],
   "source": [
    "import re\n",
    "\n",
    "# 将所有以\"white\"开头的字符串替换为\"white\"\n",
    "selected_data['itemid'] = selected_data['itemid'].apply(\n",
    "    lambda x: re.sub(r'^225722.*', 'Cul_Arterial', str(x)))\n",
    "selected_data['itemid'] = selected_data['itemid'].apply(\n",
    "    lambda x: re.sub(r'^225729.*', 'Cul_Lumen', str(x)))\n",
    "selected_data['itemid'] = selected_data['itemid'].apply(\n",
    "    lambda x: re.sub(r'^225732.*', 'Cul_PICC', str(x)))\n",
    "selected_data['itemid'] = selected_data['itemid'].apply(\n",
    "    lambda x: re.sub(r'^225724.*', 'Cul_Cordis', str(x)))\n",
    "selected_data['itemid'] = selected_data['itemid'].apply(\n",
    "    lambda x: re.sub(r'^225725.*', 'Cul_Catheter', str(x)))\n",
    "selected_data['itemid'] = selected_data['itemid'].apply(\n",
    "    lambda x: re.sub(r'^225730.*', 'Cul_PA', str(x)))\n",
    "selected_data['itemid'].value_counts()\n"
   ]
  },
  {
   "cell_type": "code",
   "execution_count": 33,
   "metadata": {},
   "outputs": [
    {
     "data": {
      "text/html": [
       "<div>\n",
       "<style scoped>\n",
       "    .dataframe tbody tr th:only-of-type {\n",
       "        vertical-align: middle;\n",
       "    }\n",
       "\n",
       "    .dataframe tbody tr th {\n",
       "        vertical-align: top;\n",
       "    }\n",
       "\n",
       "    .dataframe thead th {\n",
       "        text-align: right;\n",
       "    }\n",
       "</style>\n",
       "<table border=\"1\" class=\"dataframe\">\n",
       "  <thead>\n",
       "    <tr style=\"text-align: right;\">\n",
       "      <th></th>\n",
       "      <th>subject_id</th>\n",
       "      <th>hadm_id</th>\n",
       "      <th>charttime</th>\n",
       "      <th>itemid</th>\n",
       "      <th>value</th>\n",
       "    </tr>\n",
       "  </thead>\n",
       "  <tbody>\n",
       "    <tr>\n",
       "      <th>0</th>\n",
       "      <td>10027602</td>\n",
       "      <td>28166872</td>\n",
       "      <td>2201-10-31 09:00:00</td>\n",
       "      <td>Cul_Arterial</td>\n",
       "      <td>0</td>\n",
       "    </tr>\n",
       "    <tr>\n",
       "      <th>1</th>\n",
       "      <td>10027602</td>\n",
       "      <td>28166872</td>\n",
       "      <td>2201-10-31 15:00:00</td>\n",
       "      <td>Cul_Arterial</td>\n",
       "      <td>0</td>\n",
       "    </tr>\n",
       "    <tr>\n",
       "      <th>2</th>\n",
       "      <td>10027602</td>\n",
       "      <td>28166872</td>\n",
       "      <td>2201-10-31 15:15:00</td>\n",
       "      <td>226131</td>\n",
       "      <td>0</td>\n",
       "    </tr>\n",
       "    <tr>\n",
       "      <th>3</th>\n",
       "      <td>10027730</td>\n",
       "      <td>23954590</td>\n",
       "      <td>2165-07-11 10:03:00</td>\n",
       "      <td>225731</td>\n",
       "      <td>0</td>\n",
       "    </tr>\n",
       "    <tr>\n",
       "      <th>4</th>\n",
       "      <td>10029291</td>\n",
       "      <td>22205327</td>\n",
       "      <td>2123-03-02 20:00:00</td>\n",
       "      <td>Cul_Lumen</td>\n",
       "      <td>0</td>\n",
       "    </tr>\n",
       "  </tbody>\n",
       "</table>\n",
       "</div>"
      ],
      "text/plain": [
       "   subject_id   hadm_id            charttime        itemid value\n",
       "0    10027602  28166872  2201-10-31 09:00:00  Cul_Arterial     0\n",
       "1    10027602  28166872  2201-10-31 15:00:00  Cul_Arterial     0\n",
       "2    10027602  28166872  2201-10-31 15:15:00        226131     0\n",
       "3    10027730  23954590  2165-07-11 10:03:00        225731     0\n",
       "4    10029291  22205327  2123-03-02 20:00:00     Cul_Lumen     0"
      ]
     },
     "execution_count": 33,
     "metadata": {},
     "output_type": "execute_result"
    }
   ],
   "source": [
    "selected_data.head()"
   ]
  },
  {
   "cell_type": "code",
   "execution_count": 34,
   "metadata": {},
   "outputs": [
    {
     "name": "stderr",
     "output_type": "stream",
     "text": [
      "/var/folders/ck/8r_z2td51y379bxk8krf4ss00000gn/T/ipykernel_6700/3759293435.py:2: SettingWithCopyWarning: \n",
      "A value is trying to be set on a copy of a slice from a DataFrame\n",
      "\n",
      "See the caveats in the documentation: https://pandas.pydata.org/pandas-docs/stable/user_guide/indexing.html#returning-a-view-versus-a-copy\n",
      "  selected_data['itemid'].loc[~selected_data['itemid'].isin(\n"
     ]
    },
    {
     "data": {
      "text/plain": [
       "Cul_Arterial     9317\n",
       "Cul_Lumen        7810\n",
       "Cul_PICC         4024\n",
       "Cul_Cordis       2341\n",
       "other_culture    2319\n",
       "Cul_Catheter     1283\n",
       "Cul_PA           1100\n",
       "Name: itemid, dtype: int64"
      ]
     },
     "execution_count": 34,
     "metadata": {},
     "output_type": "execute_result"
    }
   ],
   "source": [
    "# put the others in the same category: other_culture\n",
    "selected_data['itemid'].loc[~selected_data['itemid'].isin(\n",
    "    selected_data['itemid'].value_counts().nlargest(6).index.tolist())] = 'other_culture'\n",
    "selected_data['itemid'].value_counts()\n"
   ]
  },
  {
   "cell_type": "code",
   "execution_count": 36,
   "metadata": {},
   "outputs": [],
   "source": [
    "#selected_data.to_csv('chart_final.csv', index=False)\n"
   ]
  },
  {
   "cell_type": "code",
   "execution_count": 40,
   "metadata": {},
   "outputs": [],
   "source": [
    "# 创建新列并初始化为0\n",
    "selected_data[\"Cul_Arterial\"] = 0\n",
    "\n",
    "# 根据itemid和value列的值，将Cul_Arterial列标记为1\n",
    "selected_data.loc[(selected_data[\"itemid\"] == \"Cul_Arterial\") & (\n",
    "    selected_data[\"value\"] == \"1\"), \"Cul_Arterial\"] = 1\n"
   ]
  },
  {
   "cell_type": "code",
   "execution_count": 38,
   "metadata": {},
   "outputs": [
    {
     "name": "stdout",
     "output_type": "stream",
     "text": [
      "<class 'pandas.core.frame.DataFrame'>\n",
      "RangeIndex: 28194 entries, 0 to 28193\n",
      "Data columns (total 6 columns):\n",
      " #   Column        Non-Null Count  Dtype \n",
      "---  ------        --------------  ----- \n",
      " 0   subject_id    28194 non-null  int64 \n",
      " 1   hadm_id       28194 non-null  int64 \n",
      " 2   charttime     28194 non-null  object\n",
      " 3   itemid        28194 non-null  object\n",
      " 4   value         28194 non-null  object\n",
      " 5   Cul_Arterial  28194 non-null  int64 \n",
      "dtypes: int64(3), object(3)\n",
      "memory usage: 1.3+ MB\n"
     ]
    }
   ],
   "source": [
    "selected_data.info()"
   ]
  },
  {
   "cell_type": "code",
   "execution_count": 87,
   "metadata": {},
   "outputs": [
    {
     "data": {
      "text/plain": [
       "0    27921\n",
       "1      273\n",
       "Name: Cul_Arterial, dtype: int64"
      ]
     },
     "execution_count": 87,
     "metadata": {},
     "output_type": "execute_result"
    }
   ],
   "source": [
    "selected_data['Cul_Arterial'].value_counts()"
   ]
  },
  {
   "cell_type": "code",
   "execution_count": 47,
   "metadata": {},
   "outputs": [],
   "source": [
    "selected_data[\"Cul_Lumen\"] = 0\n",
    "\n",
    "# 根据itemid和value列的值，将Cul_Arterial列标记为1\n",
    "selected_data.loc[(selected_data[\"itemid\"] == \"Cul_Lumen\") & (\n",
    "    selected_data[\"value\"] == \"1\"), \"Cul_Lumen\"] = 1\n"
   ]
  },
  {
   "cell_type": "code",
   "execution_count": 88,
   "metadata": {},
   "outputs": [
    {
     "data": {
      "text/plain": [
       "0    27356\n",
       "1      838\n",
       "Name: Cul_Lumen, dtype: int64"
      ]
     },
     "execution_count": 88,
     "metadata": {},
     "output_type": "execute_result"
    }
   ],
   "source": [
    "selected_data['Cul_Lumen'].value_counts()\n"
   ]
  },
  {
   "cell_type": "code",
   "execution_count": 49,
   "metadata": {},
   "outputs": [],
   "source": [
    "selected_data[\"Cul_PICC\"] = 0\n",
    "\n",
    "# 根据itemid和value列的值，将Cul_Arterial列标记为1\n",
    "selected_data.loc[(selected_data[\"itemid\"] == \"Cul_PICC\") & (\n",
    "    selected_data[\"value\"] == \"1\"), \"Cul_PICC\"] = 1\n",
    "\n"
   ]
  },
  {
   "cell_type": "code",
   "execution_count": 89,
   "metadata": {},
   "outputs": [
    {
     "data": {
      "text/plain": [
       "0    27872\n",
       "1      322\n",
       "Name: Cul_PICC, dtype: int64"
      ]
     },
     "execution_count": 89,
     "metadata": {},
     "output_type": "execute_result"
    }
   ],
   "source": [
    "selected_data['Cul_PICC'].value_counts()"
   ]
  },
  {
   "cell_type": "code",
   "execution_count": 50,
   "metadata": {},
   "outputs": [],
   "source": [
    "selected_data[\"Cul_Cordis\"] = 0\n",
    "\n",
    "# 根据itemid和value列的值，将Cul_Arterial列标记为1\n",
    "selected_data.loc[(selected_data[\"itemid\"] == \"Cul_Cordis\") & (\n",
    "    selected_data[\"value\"] == \"1\"), \"Cul_Cordis\"] = 1\n"
   ]
  },
  {
   "cell_type": "code",
   "execution_count": 90,
   "metadata": {},
   "outputs": [
    {
     "data": {
      "text/plain": [
       "0    28040\n",
       "1      154\n",
       "Name: Cul_Cordis, dtype: int64"
      ]
     },
     "execution_count": 90,
     "metadata": {},
     "output_type": "execute_result"
    }
   ],
   "source": [
    "selected_data['Cul_Cordis'].value_counts()"
   ]
  },
  {
   "cell_type": "code",
   "execution_count": 76,
   "metadata": {},
   "outputs": [],
   "source": [
    "# 创建新列并初始化为0\n",
    "selected_data[\"other_culture_new\"] = 0\n",
    "\n",
    "# 根据itemid和value列的值，将other_culture_new列标记为1\n",
    "selected_data.loc[(selected_data[\"itemid\"] == \"other_culture\") & (\n",
    "    selected_data[\"value\"] == \"1\"), \"other_culture_new\"] = 1\n"
   ]
  },
  {
   "cell_type": "code",
   "execution_count": 92,
   "metadata": {},
   "outputs": [],
   "source": [
    "selected_data[\"Cul_Catheter\"] = 0\n",
    "\n",
    "# 根据itemid和value列的值，将Cul_Arterial列标记为1\n",
    "selected_data.loc[(selected_data[\"itemid\"] == \"Cul_Catheter\") & (\n",
    "    selected_data[\"value\"] == \"1\"), \"Cul_Catheter\"] = 1\n"
   ]
  },
  {
   "cell_type": "code",
   "execution_count": 93,
   "metadata": {},
   "outputs": [
    {
     "data": {
      "text/plain": [
       "0    27979\n",
       "1      215\n",
       "Name: Cul_Catheter, dtype: int64"
      ]
     },
     "execution_count": 93,
     "metadata": {},
     "output_type": "execute_result"
    }
   ],
   "source": [
    "selected_data['Cul_Catheter'].value_counts()"
   ]
  },
  {
   "cell_type": "code",
   "execution_count": 94,
   "metadata": {},
   "outputs": [],
   "source": [
    "selected_data[\"Cul_PA\"] = 0\n",
    "\n",
    "# 根据itemid和value列的值，将Cul_Arterial列标记为1\n",
    "selected_data.loc[(selected_data[\"itemid\"] == \"Cul_PA\") & (\n",
    "    selected_data[\"value\"] == \"1\"), \"Cul_PA\"] = 1"
   ]
  },
  {
   "cell_type": "code",
   "execution_count": 95,
   "metadata": {},
   "outputs": [
    {
     "data": {
      "text/plain": [
       "0    28158\n",
       "1       36\n",
       "Name: Cul_PA, dtype: int64"
      ]
     },
     "execution_count": 95,
     "metadata": {},
     "output_type": "execute_result"
    }
   ],
   "source": [
    "selected_data['Cul_PA'].value_counts()"
   ]
  },
  {
   "cell_type": "code",
   "execution_count": 97,
   "metadata": {},
   "outputs": [
    {
     "name": "stdout",
     "output_type": "stream",
     "text": [
      "<class 'pandas.core.frame.DataFrame'>\n",
      "RangeIndex: 28194 entries, 0 to 28193\n",
      "Data columns (total 14 columns):\n",
      " #   Column             Non-Null Count  Dtype \n",
      "---  ------             --------------  ----- \n",
      " 0   subject_id         28194 non-null  int64 \n",
      " 1   hadm_id            28194 non-null  int64 \n",
      " 2   charttime          28194 non-null  object\n",
      " 3   itemid             28194 non-null  object\n",
      " 4   value              28194 non-null  object\n",
      " 5   Cul_Arterial       28194 non-null  int64 \n",
      " 6   Cul_Cul_Lumen      28194 non-null  int64 \n",
      " 7   Cul_Lumen          28194 non-null  int64 \n",
      " 8   Cul_PICC           28194 non-null  int64 \n",
      " 9   Cul_Cordis         28194 non-null  int64 \n",
      " 10  other_culture      28194 non-null  int64 \n",
      " 11  Cul_Catheter       28194 non-null  int64 \n",
      " 12  Cul_PA             28194 non-null  int64 \n",
      " 13  other_culture_new  28194 non-null  int64 \n",
      "dtypes: int64(11), object(3)\n",
      "memory usage: 3.0+ MB\n"
     ]
    }
   ],
   "source": [
    "selected_data.info()"
   ]
  },
  {
   "cell_type": "code",
   "execution_count": 77,
   "metadata": {},
   "outputs": [
    {
     "data": {
      "text/plain": [
       "0    28064\n",
       "1      130\n",
       "Name: other_culture_new, dtype: int64"
      ]
     },
     "execution_count": 77,
     "metadata": {},
     "output_type": "execute_result"
    }
   ],
   "source": [
    "selected_data['other_culture_new'].value_counts()"
   ]
  },
  {
   "cell_type": "code",
   "execution_count": 98,
   "metadata": {},
   "outputs": [],
   "source": [
    "selected_data=selected_data.drop([\"Cul_Cul_Lumen\", \"value\",\"other_culture\",\"itemid\"], axis=1)"
   ]
  },
  {
   "cell_type": "code",
   "execution_count": 99,
   "metadata": {},
   "outputs": [
    {
     "name": "stdout",
     "output_type": "stream",
     "text": [
      "<class 'pandas.core.frame.DataFrame'>\n",
      "RangeIndex: 28194 entries, 0 to 28193\n",
      "Data columns (total 10 columns):\n",
      " #   Column             Non-Null Count  Dtype \n",
      "---  ------             --------------  ----- \n",
      " 0   subject_id         28194 non-null  int64 \n",
      " 1   hadm_id            28194 non-null  int64 \n",
      " 2   charttime          28194 non-null  object\n",
      " 3   Cul_Arterial       28194 non-null  int64 \n",
      " 4   Cul_Lumen          28194 non-null  int64 \n",
      " 5   Cul_PICC           28194 non-null  int64 \n",
      " 6   Cul_Cordis         28194 non-null  int64 \n",
      " 7   Cul_Catheter       28194 non-null  int64 \n",
      " 8   Cul_PA             28194 non-null  int64 \n",
      " 9   other_culture_new  28194 non-null  int64 \n",
      "dtypes: int64(9), object(1)\n",
      "memory usage: 2.2+ MB\n"
     ]
    }
   ],
   "source": [
    "selected_data.info()"
   ]
  },
  {
   "cell_type": "code",
   "execution_count": 100,
   "metadata": {},
   "outputs": [],
   "source": [
    "selected_data = selected_data.rename(columns={'other_culture_new': 'other_culture'})\n"
   ]
  },
  {
   "cell_type": "code",
   "execution_count": 101,
   "metadata": {},
   "outputs": [
    {
     "name": "stdout",
     "output_type": "stream",
     "text": [
      "<class 'pandas.core.frame.DataFrame'>\n",
      "RangeIndex: 28194 entries, 0 to 28193\n",
      "Data columns (total 10 columns):\n",
      " #   Column         Non-Null Count  Dtype \n",
      "---  ------         --------------  ----- \n",
      " 0   subject_id     28194 non-null  int64 \n",
      " 1   hadm_id        28194 non-null  int64 \n",
      " 2   charttime      28194 non-null  object\n",
      " 3   Cul_Arterial   28194 non-null  int64 \n",
      " 4   Cul_Lumen      28194 non-null  int64 \n",
      " 5   Cul_PICC       28194 non-null  int64 \n",
      " 6   Cul_Cordis     28194 non-null  int64 \n",
      " 7   Cul_Catheter   28194 non-null  int64 \n",
      " 8   Cul_PA         28194 non-null  int64 \n",
      " 9   other_culture  28194 non-null  int64 \n",
      "dtypes: int64(9), object(1)\n",
      "memory usage: 2.2+ MB\n"
     ]
    }
   ],
   "source": [
    "selected_data.info()"
   ]
  },
  {
   "cell_type": "code",
   "execution_count": 102,
   "metadata": {},
   "outputs": [],
   "source": [
    "selected_data.to_csv(\"chart_final.csv\",index=False)"
   ]
  }
 ],
 "metadata": {
  "kernelspec": {
   "display_name": "base",
   "language": "python",
   "name": "python3"
  },
  "language_info": {
   "codemirror_mode": {
    "name": "ipython",
    "version": 3
   },
   "file_extension": ".py",
   "mimetype": "text/x-python",
   "name": "python",
   "nbconvert_exporter": "python",
   "pygments_lexer": "ipython3",
   "version": "3.9.13"
  },
  "orig_nbformat": 4
 },
 "nbformat": 4,
 "nbformat_minor": 2
}
