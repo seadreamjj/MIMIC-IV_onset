{
 "cells": [
  {
   "cell_type": "code",
   "execution_count": 1,
   "metadata": {},
   "outputs": [],
   "source": [
    "import pandas as pd\n",
    "import numpy as np\n",
    "import statsmodels.api as sm\n",
    "import xgboost as xgb\n",
    "from sklearn.metrics import accuracy_score\n"
   ]
  },
  {
   "cell_type": "code",
   "execution_count": 2,
   "metadata": {},
   "outputs": [],
   "source": [
    "final= pd.read_csv('Sepsis_final_data.csv')"
   ]
  },
  {
   "cell_type": "code",
   "execution_count": 3,
   "metadata": {},
   "outputs": [
    {
     "name": "stdout",
     "output_type": "stream",
     "text": [
      "<class 'pandas.core.frame.DataFrame'>\n",
      "RangeIndex: 199411 entries, 0 to 199410\n",
      "Data columns (total 55 columns):\n",
      " #   Column                   Non-Null Count   Dtype  \n",
      "---  ------                   --------------   -----  \n",
      " 0   gender                   199411 non-null  int64  \n",
      " 1   blood                    199411 non-null  int64  \n",
      " 2   circulatory              199411 non-null  int64  \n",
      " 3   congenital               199411 non-null  int64  \n",
      " 4   digestive                199411 non-null  int64  \n",
      " 5   endocrine                199411 non-null  int64  \n",
      " 6   genitourinary            199411 non-null  int64  \n",
      " 7   infectious               199411 non-null  int64  \n",
      " 8   injury                   199411 non-null  int64  \n",
      " 9   mental                   199411 non-null  int64  \n",
      " 10  misc                     199411 non-null  int64  \n",
      " 11  muscular                 199411 non-null  int64  \n",
      " 12  neoplasms                199411 non-null  int64  \n",
      " 13  nervous                  199411 non-null  int64  \n",
      " 14  pregnancy                199411 non-null  int64  \n",
      " 15  prenatal                 199411 non-null  int64  \n",
      " 16  respiratory              199411 non-null  int64  \n",
      " 17  skin                     199411 non-null  int64  \n",
      " 18  BMI                      199411 non-null  float64\n",
      " 19  Systolic_BP              199411 non-null  float64\n",
      " 20  Diastolic_BP             199411 non-null  float64\n",
      " 21  anchor_age_MIDDLE_ADULT  199411 non-null  int64  \n",
      " 22  anchor_age_SENIOR        199411 non-null  int64  \n",
      " 23  anchor_age_YOUNG_ADULT   199411 non-null  int64  \n",
      " 24  race_ASIAN               199411 non-null  int64  \n",
      " 25  race_BLACK               199411 non-null  int64  \n",
      " 26  race_HISPANIC            199411 non-null  int64  \n",
      " 27  race_OTHER/UNKNOWN       199411 non-null  int64  \n",
      " 28  race_WHITE               199411 non-null  int64  \n",
      " 29  sepsis                   199411 non-null  int64  \n",
      " 30  Cul_Arterial             199411 non-null  int64  \n",
      " 31  Cul_Lumen                199411 non-null  int64  \n",
      " 32  Cul_PICC                 199411 non-null  int64  \n",
      " 33  Cul_Cordis               199411 non-null  int64  \n",
      " 34  Cul_Catheter             199411 non-null  int64  \n",
      " 35  Cul_PA                   199411 non-null  int64  \n",
      " 36  other_culture            199411 non-null  int64  \n",
      " 37  Lactate                  199411 non-null  float64\n",
      " 38  Albumin                  199411 non-null  float64\n",
      " 39  Anion Gap                199411 non-null  float64\n",
      " 40  Bicarbonate              199411 non-null  float64\n",
      " 41  Bilirubin, Total         199411 non-null  float64\n",
      " 42  Chloride                 199411 non-null  float64\n",
      " 43  Creatinine               199411 non-null  float64\n",
      " 44  Glucose                  199411 non-null  float64\n",
      " 45  Potassium                199411 non-null  float64\n",
      " 46  Sodium                   199411 non-null  float64\n",
      " 47  Urea Nitrogen            199411 non-null  float64\n",
      " 48  Hematocrit               199411 non-null  float64\n",
      " 49  Hemoglobin               199411 non-null  float64\n",
      " 50  INR(PT)                  199411 non-null  float64\n",
      " 51  Platelet Count           199411 non-null  float64\n",
      " 52  PT                       199411 non-null  float64\n",
      " 53  PTT                      199411 non-null  float64\n",
      " 54  White Blood Cells        199411 non-null  float64\n",
      "dtypes: float64(21), int64(34)\n",
      "memory usage: 83.7 MB\n"
     ]
    }
   ],
   "source": [
    "final.info()"
   ]
  },
  {
   "cell_type": "code",
   "execution_count": 4,
   "metadata": {},
   "outputs": [],
   "source": [
    "y =final['sepsis']\n",
    "X =final.drop(['sepsis'], axis=1)"
   ]
  },
  {
   "cell_type": "code",
   "execution_count": 5,
   "metadata": {},
   "outputs": [
    {
     "name": "stdout",
     "output_type": "stream",
     "text": [
      "Train: 159528\n",
      "Test: 39883\n"
     ]
    }
   ],
   "source": [
    "from sklearn.model_selection import train_test_split\n",
    "\n",
    "# Split into training set 80% and test set 20%\n",
    "X_train, X_test, y_train, y_test = train_test_split(\n",
    "    X, y, test_size=0.2, random_state=42)\n",
    "\n",
    "# The distribution between train and test data set\n",
    "print(\"Train: {}\".format(X_train.shape[0]))\n",
    "print(\"Test: {}\".format(X_test.shape[0]))\n"
   ]
  },
  {
   "cell_type": "code",
   "execution_count": 6,
   "metadata": {},
   "outputs": [],
   "source": [
    "from mlxtend.feature_selection import SequentialFeatureSelector as SFS\n"
   ]
  },
  {
   "cell_type": "code",
   "execution_count": 8,
   "metadata": {},
   "outputs": [
    {
     "name": "stdout",
     "output_type": "stream",
     "text": [
      "Selected features: (7, 16)\n"
     ]
    }
   ],
   "source": [
    "from sklearn.tree import DecisionTreeClassifier\n",
    "\n",
    "# 定义一个决策树分类器\n",
    "clf = DecisionTreeClassifier()\n",
    "\n",
    "# 定义 SFS 模型，选择最优特征\n",
    "sfs = SFS(clf, \n",
    "          k_features='best', \n",
    "          forward=False, \n",
    "          floating=False, \n",
    "          scoring='accuracy',\n",
    "          cv=2)\n",
    "\n",
    "# 拟合 SFS 模型并进行 backward elimination 特征选择\n",
    "sfs = sfs.fit(X, y)\n",
    "\n",
    "# 打印特征选择结果\n",
    "print('Selected features:', sfs.k_feature_idx_)\n",
    "\n",
    "# 仅选择最优特征的数据集\n",
    "X_opt = sfs.transform(X)"
   ]
  },
  {
   "cell_type": "code",
   "execution_count": 10,
   "metadata": {},
   "outputs": [],
   "source": [
    "feature_names = X.columns.tolist()\n"
   ]
  },
  {
   "cell_type": "code",
   "execution_count": 11,
   "metadata": {},
   "outputs": [
    {
     "name": "stdout",
     "output_type": "stream",
     "text": [
      "Selected features: ['infectious', 'respiratory']\n"
     ]
    }
   ],
   "source": [
    "selected_feature_indices = sfs.k_feature_idx_\n",
    "selected_feature_names = [feature_names[i] for i in selected_feature_indices]\n",
    "print(\"Selected features:\", selected_feature_names)\n"
   ]
  }
 ],
 "metadata": {
  "kernelspec": {
   "display_name": "Python 3",
   "language": "python",
   "name": "python3"
  },
  "language_info": {
   "codemirror_mode": {
    "name": "ipython",
    "version": 3
   },
   "file_extension": ".py",
   "mimetype": "text/x-python",
   "name": "python",
   "nbconvert_exporter": "python",
   "pygments_lexer": "ipython3",
   "version": "3.9.13"
  },
  "orig_nbformat": 4
 },
 "nbformat": 4,
 "nbformat_minor": 2
}
