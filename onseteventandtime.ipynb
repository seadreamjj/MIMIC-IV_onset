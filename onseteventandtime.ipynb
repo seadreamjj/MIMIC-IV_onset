{
 "cells": [
  {
   "cell_type": "code",
   "execution_count": 1,
   "id": "7b07c8b8",
   "metadata": {},
   "outputs": [],
   "source": [
    "import pandas as pd\n",
    "import numpy as np\n",
    "import matplotlib.pyplot as plt\n",
    "import seaborn as sns\n",
    "from sklearn.model_selection import train_test_split\n",
    "from sklearn.metrics import r2_score, mean_squared_error\n",
    "from sklearn.neighbors import KNeighborsRegressor\n",
    "from sklearn.linear_model import LinearRegression\n",
    "from sklearn.ensemble import RandomForestRegressor\n",
    "from sklearn.ensemble import GradientBoostingRegressor\n",
    "from sklearn.linear_model import SGDRegressor\n",
    "from sklearn.model_selection import GridSearchCV"
   ]
  },
  {
   "cell_type": "code",
   "execution_count": 2,
   "id": "cc3a630d",
   "metadata": {},
   "outputs": [
    {
     "name": "stdout",
     "output_type": "stream",
     "text": [
      "<class 'pandas.core.frame.DataFrame'>\n",
      "RangeIndex: 20992361 entries, 0 to 20992360\n",
      "Data columns (total 27 columns):\n",
      " #   Column         Dtype \n",
      "---  ------         ----- \n",
      " 0   Unnamed: 0     int64 \n",
      " 1   subject_id     int64 \n",
      " 2   hadm_id        int64 \n",
      " 3   recode         int64 \n",
      " 4   race           object\n",
      " 5   gender         object\n",
      " 6   anchor_age     int64 \n",
      " 7   blood          int64 \n",
      " 8   circulatory    int64 \n",
      " 9   congenital     int64 \n",
      " 10  digestive      int64 \n",
      " 11  endocrine      int64 \n",
      " 12  genitourinary  int64 \n",
      " 13  infectious     int64 \n",
      " 14  injury         int64 \n",
      " 15  mental         int64 \n",
      " 16  misc           int64 \n",
      " 17  muscular       int64 \n",
      " 18  neoplasms      int64 \n",
      " 19  nervous        int64 \n",
      " 20  pregnancy      int64 \n",
      " 21  prenatal       int64 \n",
      " 22  respiratory    int64 \n",
      " 23  skin           int64 \n",
      " 24  systolic       int64 \n",
      " 25  diastolic      int64 \n",
      " 26  starttime      object\n",
      "dtypes: int64(24), object(3)\n",
      "memory usage: 4.2+ GB\n"
     ]
    }
   ],
   "source": [
    "# import ffotime (without spesis)\n",
    "\n",
    "df = '/mimic-iv-2.2'\n",
    "def read_ffotime(df):\n",
    "    ffo = pd.read_csv('ffotime.csv.gz')\n",
    "\n",
    "    return ffo\n",
    "\n",
    "ffo = read_ffotime(df)\n",
    "ffo.info()"
   ]
  },
  {
   "cell_type": "code",
   "execution_count": 3,
   "id": "ef62cbf2",
   "metadata": {},
   "outputs": [],
   "source": [
    "ffo_n = ffo.head(1000000)"
   ]
  },
  {
   "cell_type": "code",
   "execution_count": 4,
   "id": "ed98fd6a",
   "metadata": {},
   "outputs": [],
   "source": [
    "# import fstime (spesis)\n",
    "\n",
    "def read_fstime(df):\n",
    "    fs = pd.read_csv('fstime.csv.gz')\n",
    "\n",
    "    return fs\n",
    "\n",
    "fs = read_fstime(df)\n"
   ]
  },
  {
   "cell_type": "code",
   "execution_count": 5,
   "id": "5602865e",
   "metadata": {},
   "outputs": [
    {
     "name": "stdout",
     "output_type": "stream",
     "text": [
      "<class 'pandas.core.frame.DataFrame'>\n",
      "RangeIndex: 3003001 entries, 0 to 3003000\n",
      "Data columns (total 27 columns):\n",
      " #   Column         Dtype \n",
      "---  ------         ----- \n",
      " 0   Unnamed: 0     int64 \n",
      " 1   subject_id     int64 \n",
      " 2   hadm_id        int64 \n",
      " 3   recode         int64 \n",
      " 4   race           object\n",
      " 5   gender         object\n",
      " 6   anchor_age     int64 \n",
      " 7   blood          int64 \n",
      " 8   circulatory    int64 \n",
      " 9   congenital     int64 \n",
      " 10  digestive      int64 \n",
      " 11  endocrine      int64 \n",
      " 12  genitourinary  int64 \n",
      " 13  infectious     int64 \n",
      " 14  injury         int64 \n",
      " 15  mental         int64 \n",
      " 16  misc           int64 \n",
      " 17  muscular       int64 \n",
      " 18  neoplasms      int64 \n",
      " 19  nervous        int64 \n",
      " 20  pregnancy      int64 \n",
      " 21  prenatal       int64 \n",
      " 22  respiratory    int64 \n",
      " 23  skin           int64 \n",
      " 24  systolic       int64 \n",
      " 25  diastolic      int64 \n",
      " 26  starttime      object\n",
      "dtypes: int64(24), object(3)\n",
      "memory usage: 618.6+ MB\n"
     ]
    }
   ],
   "source": [
    "fs_n = fs.drop(columns=['Unnamed: 0.1'])\n",
    "fs_n.info()"
   ]
  },
  {
   "cell_type": "code",
   "execution_count": 6,
   "id": "278283fe",
   "metadata": {},
   "outputs": [
    {
     "data": {
      "text/plain": [
       "995    3003001\n",
       "Name: recode, dtype: int64"
      ]
     },
     "execution_count": 6,
     "metadata": {},
     "output_type": "execute_result"
    }
   ],
   "source": [
    "fs_n.recode.value_counts()"
   ]
  },
  {
   "cell_type": "code",
   "execution_count": 7,
   "id": "4f636944",
   "metadata": {},
   "outputs": [],
   "source": [
    "# import lab\n",
    "\n",
    "def read_lab(df):\n",
    "    lab = pd.read_csv('lab_pivot.csv.gz')\n",
    "\n",
    "    return lab\n",
    "\n",
    "lab = read_lab(df)\n"
   ]
  },
  {
   "cell_type": "code",
   "execution_count": 8,
   "id": "5dddc9ac",
   "metadata": {},
   "outputs": [],
   "source": [
    "lab_n = lab.sample(n = 100000)"
   ]
  },
  {
   "cell_type": "code",
   "execution_count": 9,
   "id": "ea95c873",
   "metadata": {},
   "outputs": [
    {
     "name": "stdout",
     "output_type": "stream",
     "text": [
      "<class 'pandas.core.frame.DataFrame'>\n",
      "Int64Index: 4003001 entries, 0 to 3003000\n",
      "Data columns (total 27 columns):\n",
      " #   Column         Dtype \n",
      "---  ------         ----- \n",
      " 0   Unnamed: 0     int64 \n",
      " 1   subject_id     int64 \n",
      " 2   hadm_id        int64 \n",
      " 3   recode         int64 \n",
      " 4   race           object\n",
      " 5   gender         object\n",
      " 6   anchor_age     int64 \n",
      " 7   blood          int64 \n",
      " 8   circulatory    int64 \n",
      " 9   congenital     int64 \n",
      " 10  digestive      int64 \n",
      " 11  endocrine      int64 \n",
      " 12  genitourinary  int64 \n",
      " 13  infectious     int64 \n",
      " 14  injury         int64 \n",
      " 15  mental         int64 \n",
      " 16  misc           int64 \n",
      " 17  muscular       int64 \n",
      " 18  neoplasms      int64 \n",
      " 19  nervous        int64 \n",
      " 20  pregnancy      int64 \n",
      " 21  prenatal       int64 \n",
      " 22  respiratory    int64 \n",
      " 23  skin           int64 \n",
      " 24  systolic       int64 \n",
      " 25  diastolic      int64 \n",
      " 26  starttime      object\n",
      "dtypes: int64(24), object(3)\n",
      "memory usage: 855.1+ MB\n"
     ]
    }
   ],
   "source": [
    "# merge ffo and fs\n",
    "\n",
    "baseline = pd.concat([ffo_n, fs_n])\n",
    "baseline.info()"
   ]
  },
  {
   "cell_type": "code",
   "execution_count": null,
   "id": "e948889b",
   "metadata": {},
   "outputs": [],
   "source": [
    "baseline.to_csv('ffofs.csv.gz')"
   ]
  },
  {
   "cell_type": "code",
   "execution_count": 10,
   "id": "9ac97854",
   "metadata": {},
   "outputs": [],
   "source": [
    "base_n = baseline.drop(columns=['Unnamed: 0','hadm_id','race'])\n",
    "base_nn = baseline.sample(n = 100000)"
   ]
  },
  {
   "cell_type": "code",
   "execution_count": 44,
   "id": "8d5aa1ea",
   "metadata": {},
   "outputs": [],
   "source": []
  },
  {
   "cell_type": "code",
   "execution_count": 11,
   "id": "e2d6d3a7",
   "metadata": {},
   "outputs": [
    {
     "name": "stdout",
     "output_type": "stream",
     "text": [
      "<class 'pandas.core.frame.DataFrame'>\n",
      "Int64Index: 432603 entries, 0 to 432602\n",
      "Data columns (total 48 columns):\n",
      " #   Column             Non-Null Count   Dtype  \n",
      "---  ------             --------------   -----  \n",
      " 0   Unnamed: 0         332627 non-null  float64\n",
      " 1   subject_id         432603 non-null  int64  \n",
      " 2   hadm_id            332627 non-null  float64\n",
      " 3   recode             332627 non-null  float64\n",
      " 4   race               332627 non-null  object \n",
      " 5   gender             332627 non-null  object \n",
      " 6   anchor_age         332627 non-null  float64\n",
      " 7   blood              332627 non-null  float64\n",
      " 8   circulatory        332627 non-null  float64\n",
      " 9   congenital         332627 non-null  float64\n",
      " 10  digestive          332627 non-null  float64\n",
      " 11  endocrine          332627 non-null  float64\n",
      " 12  genitourinary      332627 non-null  float64\n",
      " 13  infectious         332627 non-null  float64\n",
      " 14  injury             332627 non-null  float64\n",
      " 15  mental             332627 non-null  float64\n",
      " 16  misc               332627 non-null  float64\n",
      " 17  muscular           332627 non-null  float64\n",
      " 18  neoplasms          332627 non-null  float64\n",
      " 19  nervous            332627 non-null  float64\n",
      " 20  pregnancy          332627 non-null  float64\n",
      " 21  prenatal           332627 non-null  float64\n",
      " 22  respiratory        332627 non-null  float64\n",
      " 23  skin               332627 non-null  float64\n",
      " 24  systolic           332627 non-null  float64\n",
      " 25  diastolic          332627 non-null  float64\n",
      " 26  starttime          332627 non-null  object \n",
      " 27  charttime          428233 non-null  object \n",
      " 28  Lactate            10252 non-null   float64\n",
      " 29  Albumin            41424 non-null   float64\n",
      " 30  Anion Gap          290376 non-null  float64\n",
      " 31  Bicarbonate        290520 non-null  float64\n",
      " 32  Bilirubin, Total   168944 non-null  float64\n",
      " 33  Chloride           304938 non-null  float64\n",
      " 34  Creatinine         335311 non-null  float64\n",
      " 35  Glucose            175096 non-null  float64\n",
      " 36  Potassium          332456 non-null  float64\n",
      " 37  Sodium             305629 non-null  float64\n",
      " 38  Urea Nitrogen      321162 non-null  float64\n",
      " 39  Bands              93631 non-null   float64\n",
      " 40  Hematocrit         282297 non-null  float64\n",
      " 41  Hemoglobin         279531 non-null  float64\n",
      " 42  INR(PT)            79643 non-null   float64\n",
      " 43  Platelet Count     280013 non-null  float64\n",
      " 44  PT                 79627 non-null   float64\n",
      " 45  PTT                80536 non-null   float64\n",
      " 46  WBC Count          568 non-null     float64\n",
      " 47  White Blood Cells  279098 non-null  float64\n",
      "dtypes: float64(43), int64(1), object(4)\n",
      "memory usage: 161.7+ MB\n"
     ]
    }
   ],
   "source": [
    "base_lab = pd.merge(base_nn, lab_n, how='outer', on='subject_id')\n",
    "\n",
    "base_lab.info()"
   ]
  },
  {
   "cell_type": "code",
   "execution_count": 13,
   "id": "cfb26670",
   "metadata": {},
   "outputs": [
    {
     "data": {
      "text/plain": [
       "995.0    282328\n",
       "584.0     41478\n",
       "311.0      8684\n",
       "276.0       137\n",
       "Name: recode, dtype: int64"
      ]
     },
     "execution_count": 13,
     "metadata": {},
     "output_type": "execute_result"
    }
   ],
   "source": [
    "base_lab.recode.value_counts()"
   ]
  },
  {
   "cell_type": "markdown",
   "id": "8073c3b1",
   "metadata": {},
   "source": [
    "# Feature from lab"
   ]
  },
  {
   "cell_type": "code",
   "execution_count": 14,
   "id": "7917c71e",
   "metadata": {},
   "outputs": [
    {
     "data": {
      "text/html": [
       "<div>\n",
       "<style scoped>\n",
       "    .dataframe tbody tr th:only-of-type {\n",
       "        vertical-align: middle;\n",
       "    }\n",
       "\n",
       "    .dataframe tbody tr th {\n",
       "        vertical-align: top;\n",
       "    }\n",
       "\n",
       "    .dataframe thead th {\n",
       "        text-align: right;\n",
       "    }\n",
       "</style>\n",
       "<table border=\"1\" class=\"dataframe\">\n",
       "  <thead>\n",
       "    <tr style=\"text-align: right;\">\n",
       "      <th></th>\n",
       "      <th>Unnamed: 0</th>\n",
       "      <th>subject_id</th>\n",
       "      <th>hadm_id</th>\n",
       "      <th>recode</th>\n",
       "      <th>race</th>\n",
       "      <th>gender</th>\n",
       "      <th>anchor_age</th>\n",
       "      <th>blood</th>\n",
       "      <th>circulatory</th>\n",
       "      <th>congenital</th>\n",
       "      <th>...</th>\n",
       "      <th>Urea Nitrogen</th>\n",
       "      <th>Bands</th>\n",
       "      <th>Hematocrit</th>\n",
       "      <th>Hemoglobin</th>\n",
       "      <th>INR(PT)</th>\n",
       "      <th>Platelet Count</th>\n",
       "      <th>PT</th>\n",
       "      <th>PTT</th>\n",
       "      <th>WBC Count</th>\n",
       "      <th>White Blood Cells</th>\n",
       "    </tr>\n",
       "  </thead>\n",
       "  <tbody>\n",
       "    <tr>\n",
       "      <th>0</th>\n",
       "      <td>1149.0</td>\n",
       "      <td>10274866</td>\n",
       "      <td>23488422.0</td>\n",
       "      <td>995.0</td>\n",
       "      <td>HISPANIC/LATINO</td>\n",
       "      <td>0.0</td>\n",
       "      <td>65.0</td>\n",
       "      <td>0.0</td>\n",
       "      <td>1.0</td>\n",
       "      <td>0.0</td>\n",
       "      <td>...</td>\n",
       "      <td>NaN</td>\n",
       "      <td>NaN</td>\n",
       "      <td>37.2</td>\n",
       "      <td>12.0</td>\n",
       "      <td>NaN</td>\n",
       "      <td>239.0</td>\n",
       "      <td>NaN</td>\n",
       "      <td>NaN</td>\n",
       "      <td>NaN</td>\n",
       "      <td>7.6</td>\n",
       "    </tr>\n",
       "    <tr>\n",
       "      <th>1</th>\n",
       "      <td>1149.0</td>\n",
       "      <td>10274866</td>\n",
       "      <td>23488422.0</td>\n",
       "      <td>995.0</td>\n",
       "      <td>HISPANIC/LATINO</td>\n",
       "      <td>0.0</td>\n",
       "      <td>65.0</td>\n",
       "      <td>0.0</td>\n",
       "      <td>1.0</td>\n",
       "      <td>0.0</td>\n",
       "      <td>...</td>\n",
       "      <td>NaN</td>\n",
       "      <td>NaN</td>\n",
       "      <td>NaN</td>\n",
       "      <td>NaN</td>\n",
       "      <td>NaN</td>\n",
       "      <td>NaN</td>\n",
       "      <td>NaN</td>\n",
       "      <td>NaN</td>\n",
       "      <td>NaN</td>\n",
       "      <td>NaN</td>\n",
       "    </tr>\n",
       "    <tr>\n",
       "      <th>2</th>\n",
       "      <td>63.0</td>\n",
       "      <td>10274866</td>\n",
       "      <td>23488422.0</td>\n",
       "      <td>995.0</td>\n",
       "      <td>HISPANIC/LATINO</td>\n",
       "      <td>0.0</td>\n",
       "      <td>65.0</td>\n",
       "      <td>0.0</td>\n",
       "      <td>1.0</td>\n",
       "      <td>0.0</td>\n",
       "      <td>...</td>\n",
       "      <td>NaN</td>\n",
       "      <td>NaN</td>\n",
       "      <td>37.2</td>\n",
       "      <td>12.0</td>\n",
       "      <td>NaN</td>\n",
       "      <td>239.0</td>\n",
       "      <td>NaN</td>\n",
       "      <td>NaN</td>\n",
       "      <td>NaN</td>\n",
       "      <td>7.6</td>\n",
       "    </tr>\n",
       "    <tr>\n",
       "      <th>3</th>\n",
       "      <td>63.0</td>\n",
       "      <td>10274866</td>\n",
       "      <td>23488422.0</td>\n",
       "      <td>995.0</td>\n",
       "      <td>HISPANIC/LATINO</td>\n",
       "      <td>0.0</td>\n",
       "      <td>65.0</td>\n",
       "      <td>0.0</td>\n",
       "      <td>1.0</td>\n",
       "      <td>0.0</td>\n",
       "      <td>...</td>\n",
       "      <td>NaN</td>\n",
       "      <td>NaN</td>\n",
       "      <td>NaN</td>\n",
       "      <td>NaN</td>\n",
       "      <td>NaN</td>\n",
       "      <td>NaN</td>\n",
       "      <td>NaN</td>\n",
       "      <td>NaN</td>\n",
       "      <td>NaN</td>\n",
       "      <td>NaN</td>\n",
       "    </tr>\n",
       "    <tr>\n",
       "      <th>4</th>\n",
       "      <td>345.0</td>\n",
       "      <td>10274866</td>\n",
       "      <td>23488422.0</td>\n",
       "      <td>995.0</td>\n",
       "      <td>HISPANIC/LATINO</td>\n",
       "      <td>0.0</td>\n",
       "      <td>65.0</td>\n",
       "      <td>0.0</td>\n",
       "      <td>1.0</td>\n",
       "      <td>0.0</td>\n",
       "      <td>...</td>\n",
       "      <td>NaN</td>\n",
       "      <td>NaN</td>\n",
       "      <td>37.2</td>\n",
       "      <td>12.0</td>\n",
       "      <td>NaN</td>\n",
       "      <td>239.0</td>\n",
       "      <td>NaN</td>\n",
       "      <td>NaN</td>\n",
       "      <td>NaN</td>\n",
       "      <td>7.6</td>\n",
       "    </tr>\n",
       "  </tbody>\n",
       "</table>\n",
       "<p>5 rows × 48 columns</p>\n",
       "</div>"
      ],
      "text/plain": [
       "   Unnamed: 0  subject_id     hadm_id  recode             race  gender  \\\n",
       "0      1149.0    10274866  23488422.0   995.0  HISPANIC/LATINO     0.0   \n",
       "1      1149.0    10274866  23488422.0   995.0  HISPANIC/LATINO     0.0   \n",
       "2        63.0    10274866  23488422.0   995.0  HISPANIC/LATINO     0.0   \n",
       "3        63.0    10274866  23488422.0   995.0  HISPANIC/LATINO     0.0   \n",
       "4       345.0    10274866  23488422.0   995.0  HISPANIC/LATINO     0.0   \n",
       "\n",
       "   anchor_age  blood  circulatory  congenital  ...  Urea Nitrogen  Bands  \\\n",
       "0        65.0    0.0          1.0         0.0  ...            NaN    NaN   \n",
       "1        65.0    0.0          1.0         0.0  ...            NaN    NaN   \n",
       "2        65.0    0.0          1.0         0.0  ...            NaN    NaN   \n",
       "3        65.0    0.0          1.0         0.0  ...            NaN    NaN   \n",
       "4        65.0    0.0          1.0         0.0  ...            NaN    NaN   \n",
       "\n",
       "   Hematocrit  Hemoglobin  INR(PT)  Platelet Count  PT  PTT  WBC Count  \\\n",
       "0        37.2        12.0      NaN           239.0 NaN  NaN        NaN   \n",
       "1         NaN         NaN      NaN             NaN NaN  NaN        NaN   \n",
       "2        37.2        12.0      NaN           239.0 NaN  NaN        NaN   \n",
       "3         NaN         NaN      NaN             NaN NaN  NaN        NaN   \n",
       "4        37.2        12.0      NaN           239.0 NaN  NaN        NaN   \n",
       "\n",
       "   White Blood Cells  \n",
       "0                7.6  \n",
       "1                NaN  \n",
       "2                7.6  \n",
       "3                NaN  \n",
       "4                7.6  \n",
       "\n",
       "[5 rows x 48 columns]"
      ]
     },
     "execution_count": 14,
     "metadata": {},
     "output_type": "execute_result"
    }
   ],
   "source": [
    "base_lab['gender'].replace({'M': 0, 'F':1}, inplace=True)\n",
    "\n",
    "base_lab.head()"
   ]
  },
  {
   "cell_type": "code",
   "execution_count": 15,
   "id": "e8a4420f",
   "metadata": {},
   "outputs": [
    {
     "name": "stdout",
     "output_type": "stream",
     "text": [
      "<class 'pandas.core.frame.DataFrame'>\n",
      "Int64Index: 432603 entries, 0 to 432602\n",
      "Data columns (total 48 columns):\n",
      " #   Column             Non-Null Count   Dtype  \n",
      "---  ------             --------------   -----  \n",
      " 0   Unnamed: 0         332627 non-null  float64\n",
      " 1   subject_id         432603 non-null  int64  \n",
      " 2   hadm_id            332627 non-null  float64\n",
      " 3   recode             332627 non-null  float64\n",
      " 4   race               332627 non-null  object \n",
      " 5   gender             332627 non-null  float64\n",
      " 6   anchor_age         332627 non-null  float64\n",
      " 7   blood              332627 non-null  float64\n",
      " 8   circulatory        332627 non-null  float64\n",
      " 9   congenital         332627 non-null  float64\n",
      " 10  digestive          332627 non-null  float64\n",
      " 11  endocrine          332627 non-null  float64\n",
      " 12  genitourinary      332627 non-null  float64\n",
      " 13  infectious         332627 non-null  float64\n",
      " 14  injury             332627 non-null  float64\n",
      " 15  mental             332627 non-null  float64\n",
      " 16  misc               332627 non-null  float64\n",
      " 17  muscular           332627 non-null  float64\n",
      " 18  neoplasms          332627 non-null  float64\n",
      " 19  nervous            332627 non-null  float64\n",
      " 20  pregnancy          332627 non-null  float64\n",
      " 21  prenatal           332627 non-null  float64\n",
      " 22  respiratory        332627 non-null  float64\n",
      " 23  skin               332627 non-null  float64\n",
      " 24  systolic           332627 non-null  float64\n",
      " 25  diastolic          332627 non-null  float64\n",
      " 26  starttime          332627 non-null  object \n",
      " 27  charttime          428233 non-null  object \n",
      " 28  Lactate            10252 non-null   float64\n",
      " 29  Albumin            41424 non-null   float64\n",
      " 30  Anion Gap          290376 non-null  float64\n",
      " 31  Bicarbonate        290520 non-null  float64\n",
      " 32  Bilirubin, Total   168944 non-null  float64\n",
      " 33  Chloride           304938 non-null  float64\n",
      " 34  Creatinine         335311 non-null  float64\n",
      " 35  Glucose            175096 non-null  float64\n",
      " 36  Potassium          332456 non-null  float64\n",
      " 37  Sodium             305629 non-null  float64\n",
      " 38  Urea Nitrogen      321162 non-null  float64\n",
      " 39  Bands              93631 non-null   float64\n",
      " 40  Hematocrit         282297 non-null  float64\n",
      " 41  Hemoglobin         279531 non-null  float64\n",
      " 42  INR(PT)            79643 non-null   float64\n",
      " 43  Platelet Count     280013 non-null  float64\n",
      " 44  PT                 79627 non-null   float64\n",
      " 45  PTT                80536 non-null   float64\n",
      " 46  WBC Count          568 non-null     float64\n",
      " 47  White Blood Cells  279098 non-null  float64\n",
      "dtypes: float64(44), int64(1), object(3)\n",
      "memory usage: 161.7+ MB\n"
     ]
    }
   ],
   "source": [
    "base_lab.info()"
   ]
  },
  {
   "cell_type": "code",
   "execution_count": 16,
   "id": "cd4675ec",
   "metadata": {},
   "outputs": [
    {
     "data": {
      "text/plain": [
       "1    282328\n",
       "0    150275\n",
       "Name: recode, dtype: int64"
      ]
     },
     "execution_count": 16,
     "metadata": {},
     "output_type": "execute_result"
    }
   ],
   "source": [
    "def replace_recode_range(value):\n",
    "    if value == 995:\n",
    "        return 1\n",
    "    else:\n",
    "        return 0\n",
    "\n",
    "base_lab['recode'] = base_lab['recode'].apply(replace_recode_range)\n",
    "\n",
    "base_lab.recode.value_counts()"
   ]
  },
  {
   "cell_type": "code",
   "execution_count": 17,
   "id": "c0bb0230",
   "metadata": {},
   "outputs": [
    {
     "data": {
      "text/plain": [
       "Text(0.5, 1.0, 'Age versus Diagnoses')"
      ]
     },
     "execution_count": 17,
     "metadata": {},
     "output_type": "execute_result"
    },
    {
     "data": {
      "image/png": "[encoded data removed]",
      "text/plain": [
       "<Figure size 640x480 with 1 Axes>"
      ]
     },
     "metadata": {},
     "output_type": "display_data"
    }
   ],
   "source": [
    "plt.scatter(base_lab['anchor_age'], base_lab['recode'], alpha=0.005)\n",
    "plt.xlabel('Diagnosed as spesis')\n",
    "plt.ylabel('Age (years)')\n",
    "plt.title('Age versus Diagnoses')"
   ]
  },
  {
   "cell_type": "code",
   "execution_count": 210,
   "id": "9f1170a5",
   "metadata": {},
   "outputs": [
    {
     "data": {
      "text/html": [
       "<div>\n",
       "<style scoped>\n",
       "    .dataframe tbody tr th:only-of-type {\n",
       "        vertical-align: middle;\n",
       "    }\n",
       "\n",
       "    .dataframe tbody tr th {\n",
       "        vertical-align: top;\n",
       "    }\n",
       "\n",
       "    .dataframe thead th {\n",
       "        text-align: right;\n",
       "    }\n",
       "</style>\n",
       "<table border=\"1\" class=\"dataframe\">\n",
       "  <thead>\n",
       "    <tr style=\"text-align: right;\">\n",
       "      <th></th>\n",
       "      <th>subject_id</th>\n",
       "      <th>recode</th>\n",
       "      <th>gender</th>\n",
       "      <th>blood</th>\n",
       "      <th>circulatory</th>\n",
       "      <th>congenital</th>\n",
       "      <th>digestive</th>\n",
       "      <th>endocrine</th>\n",
       "      <th>genitourinary</th>\n",
       "      <th>infectious</th>\n",
       "      <th>...</th>\n",
       "      <th>Urea Nitrogen</th>\n",
       "      <th>Bands</th>\n",
       "      <th>Hematocrit</th>\n",
       "      <th>Hemoglobin</th>\n",
       "      <th>INR(PT)</th>\n",
       "      <th>Platelet Count</th>\n",
       "      <th>PT</th>\n",
       "      <th>PTT</th>\n",
       "      <th>WBC Count</th>\n",
       "      <th>White Blood Cells</th>\n",
       "    </tr>\n",
       "  </thead>\n",
       "  <tbody>\n",
       "    <tr>\n",
       "      <th>0</th>\n",
       "      <td>10274866</td>\n",
       "      <td>1</td>\n",
       "      <td>0.0</td>\n",
       "      <td>0.0</td>\n",
       "      <td>1.0</td>\n",
       "      <td>0.0</td>\n",
       "      <td>0.0</td>\n",
       "      <td>0.0</td>\n",
       "      <td>0.0</td>\n",
       "      <td>0.0</td>\n",
       "      <td>...</td>\n",
       "      <td>NaN</td>\n",
       "      <td>NaN</td>\n",
       "      <td>37.2</td>\n",
       "      <td>12.0</td>\n",
       "      <td>NaN</td>\n",
       "      <td>239.0</td>\n",
       "      <td>NaN</td>\n",
       "      <td>NaN</td>\n",
       "      <td>NaN</td>\n",
       "      <td>7.6</td>\n",
       "    </tr>\n",
       "    <tr>\n",
       "      <th>1</th>\n",
       "      <td>10274866</td>\n",
       "      <td>1</td>\n",
       "      <td>0.0</td>\n",
       "      <td>0.0</td>\n",
       "      <td>1.0</td>\n",
       "      <td>0.0</td>\n",
       "      <td>0.0</td>\n",
       "      <td>0.0</td>\n",
       "      <td>0.0</td>\n",
       "      <td>0.0</td>\n",
       "      <td>...</td>\n",
       "      <td>NaN</td>\n",
       "      <td>NaN</td>\n",
       "      <td>NaN</td>\n",
       "      <td>NaN</td>\n",
       "      <td>NaN</td>\n",
       "      <td>NaN</td>\n",
       "      <td>NaN</td>\n",
       "      <td>NaN</td>\n",
       "      <td>NaN</td>\n",
       "      <td>NaN</td>\n",
       "    </tr>\n",
       "    <tr>\n",
       "      <th>2</th>\n",
       "      <td>10274866</td>\n",
       "      <td>1</td>\n",
       "      <td>0.0</td>\n",
       "      <td>0.0</td>\n",
       "      <td>1.0</td>\n",
       "      <td>0.0</td>\n",
       "      <td>0.0</td>\n",
       "      <td>0.0</td>\n",
       "      <td>0.0</td>\n",
       "      <td>0.0</td>\n",
       "      <td>...</td>\n",
       "      <td>NaN</td>\n",
       "      <td>NaN</td>\n",
       "      <td>37.2</td>\n",
       "      <td>12.0</td>\n",
       "      <td>NaN</td>\n",
       "      <td>239.0</td>\n",
       "      <td>NaN</td>\n",
       "      <td>NaN</td>\n",
       "      <td>NaN</td>\n",
       "      <td>7.6</td>\n",
       "    </tr>\n",
       "    <tr>\n",
       "      <th>3</th>\n",
       "      <td>10274866</td>\n",
       "      <td>1</td>\n",
       "      <td>0.0</td>\n",
       "      <td>0.0</td>\n",
       "      <td>1.0</td>\n",
       "      <td>0.0</td>\n",
       "      <td>0.0</td>\n",
       "      <td>0.0</td>\n",
       "      <td>0.0</td>\n",
       "      <td>0.0</td>\n",
       "      <td>...</td>\n",
       "      <td>NaN</td>\n",
       "      <td>NaN</td>\n",
       "      <td>NaN</td>\n",
       "      <td>NaN</td>\n",
       "      <td>NaN</td>\n",
       "      <td>NaN</td>\n",
       "      <td>NaN</td>\n",
       "      <td>NaN</td>\n",
       "      <td>NaN</td>\n",
       "      <td>NaN</td>\n",
       "    </tr>\n",
       "    <tr>\n",
       "      <th>4</th>\n",
       "      <td>10274866</td>\n",
       "      <td>1</td>\n",
       "      <td>0.0</td>\n",
       "      <td>0.0</td>\n",
       "      <td>1.0</td>\n",
       "      <td>0.0</td>\n",
       "      <td>0.0</td>\n",
       "      <td>0.0</td>\n",
       "      <td>0.0</td>\n",
       "      <td>0.0</td>\n",
       "      <td>...</td>\n",
       "      <td>NaN</td>\n",
       "      <td>NaN</td>\n",
       "      <td>37.2</td>\n",
       "      <td>12.0</td>\n",
       "      <td>NaN</td>\n",
       "      <td>239.0</td>\n",
       "      <td>NaN</td>\n",
       "      <td>NaN</td>\n",
       "      <td>NaN</td>\n",
       "      <td>7.6</td>\n",
       "    </tr>\n",
       "    <tr>\n",
       "      <th>...</th>\n",
       "      <td>...</td>\n",
       "      <td>...</td>\n",
       "      <td>...</td>\n",
       "      <td>...</td>\n",
       "      <td>...</td>\n",
       "      <td>...</td>\n",
       "      <td>...</td>\n",
       "      <td>...</td>\n",
       "      <td>...</td>\n",
       "      <td>...</td>\n",
       "      <td>...</td>\n",
       "      <td>...</td>\n",
       "      <td>...</td>\n",
       "      <td>...</td>\n",
       "      <td>...</td>\n",
       "      <td>...</td>\n",
       "      <td>...</td>\n",
       "      <td>...</td>\n",
       "      <td>...</td>\n",
       "      <td>...</td>\n",
       "      <td>...</td>\n",
       "    </tr>\n",
       "    <tr>\n",
       "      <th>432598</th>\n",
       "      <td>19393286</td>\n",
       "      <td>0</td>\n",
       "      <td>NaN</td>\n",
       "      <td>NaN</td>\n",
       "      <td>NaN</td>\n",
       "      <td>NaN</td>\n",
       "      <td>NaN</td>\n",
       "      <td>NaN</td>\n",
       "      <td>NaN</td>\n",
       "      <td>NaN</td>\n",
       "      <td>...</td>\n",
       "      <td>NaN</td>\n",
       "      <td>NaN</td>\n",
       "      <td>NaN</td>\n",
       "      <td>NaN</td>\n",
       "      <td>NaN</td>\n",
       "      <td>NaN</td>\n",
       "      <td>NaN</td>\n",
       "      <td>NaN</td>\n",
       "      <td>NaN</td>\n",
       "      <td>NaN</td>\n",
       "    </tr>\n",
       "    <tr>\n",
       "      <th>432599</th>\n",
       "      <td>12304028</td>\n",
       "      <td>0</td>\n",
       "      <td>NaN</td>\n",
       "      <td>NaN</td>\n",
       "      <td>NaN</td>\n",
       "      <td>NaN</td>\n",
       "      <td>NaN</td>\n",
       "      <td>NaN</td>\n",
       "      <td>NaN</td>\n",
       "      <td>NaN</td>\n",
       "      <td>...</td>\n",
       "      <td>17.0</td>\n",
       "      <td>NaN</td>\n",
       "      <td>41.9</td>\n",
       "      <td>14.0</td>\n",
       "      <td>1.0</td>\n",
       "      <td>243.0</td>\n",
       "      <td>10.6</td>\n",
       "      <td>32.3</td>\n",
       "      <td>NaN</td>\n",
       "      <td>5.0</td>\n",
       "    </tr>\n",
       "    <tr>\n",
       "      <th>432600</th>\n",
       "      <td>18179783</td>\n",
       "      <td>0</td>\n",
       "      <td>NaN</td>\n",
       "      <td>NaN</td>\n",
       "      <td>NaN</td>\n",
       "      <td>NaN</td>\n",
       "      <td>NaN</td>\n",
       "      <td>NaN</td>\n",
       "      <td>NaN</td>\n",
       "      <td>NaN</td>\n",
       "      <td>...</td>\n",
       "      <td>31.0</td>\n",
       "      <td>NaN</td>\n",
       "      <td>36.4</td>\n",
       "      <td>11.7</td>\n",
       "      <td>1.1</td>\n",
       "      <td>197.0</td>\n",
       "      <td>11.5</td>\n",
       "      <td>33.0</td>\n",
       "      <td>NaN</td>\n",
       "      <td>4.7</td>\n",
       "    </tr>\n",
       "    <tr>\n",
       "      <th>432601</th>\n",
       "      <td>12423170</td>\n",
       "      <td>0</td>\n",
       "      <td>NaN</td>\n",
       "      <td>NaN</td>\n",
       "      <td>NaN</td>\n",
       "      <td>NaN</td>\n",
       "      <td>NaN</td>\n",
       "      <td>NaN</td>\n",
       "      <td>NaN</td>\n",
       "      <td>NaN</td>\n",
       "      <td>...</td>\n",
       "      <td>NaN</td>\n",
       "      <td>NaN</td>\n",
       "      <td>NaN</td>\n",
       "      <td>NaN</td>\n",
       "      <td>NaN</td>\n",
       "      <td>NaN</td>\n",
       "      <td>NaN</td>\n",
       "      <td>NaN</td>\n",
       "      <td>NaN</td>\n",
       "      <td>NaN</td>\n",
       "    </tr>\n",
       "    <tr>\n",
       "      <th>432602</th>\n",
       "      <td>15771439</td>\n",
       "      <td>0</td>\n",
       "      <td>NaN</td>\n",
       "      <td>NaN</td>\n",
       "      <td>NaN</td>\n",
       "      <td>NaN</td>\n",
       "      <td>NaN</td>\n",
       "      <td>NaN</td>\n",
       "      <td>NaN</td>\n",
       "      <td>NaN</td>\n",
       "      <td>...</td>\n",
       "      <td>NaN</td>\n",
       "      <td>NaN</td>\n",
       "      <td>NaN</td>\n",
       "      <td>NaN</td>\n",
       "      <td>1.0</td>\n",
       "      <td>NaN</td>\n",
       "      <td>11.0</td>\n",
       "      <td>26.3</td>\n",
       "      <td>NaN</td>\n",
       "      <td>NaN</td>\n",
       "    </tr>\n",
       "  </tbody>\n",
       "</table>\n",
       "<p>432603 rows × 43 columns</p>\n",
       "</div>"
      ],
      "text/plain": [
       "        subject_id  recode  gender  blood  circulatory  congenital  digestive  \\\n",
       "0         10274866       1     0.0    0.0          1.0         0.0        0.0   \n",
       "1         10274866       1     0.0    0.0          1.0         0.0        0.0   \n",
       "2         10274866       1     0.0    0.0          1.0         0.0        0.0   \n",
       "3         10274866       1     0.0    0.0          1.0         0.0        0.0   \n",
       "4         10274866       1     0.0    0.0          1.0         0.0        0.0   \n",
       "...            ...     ...     ...    ...          ...         ...        ...   \n",
       "432598    19393286       0     NaN    NaN          NaN         NaN        NaN   \n",
       "432599    12304028       0     NaN    NaN          NaN         NaN        NaN   \n",
       "432600    18179783       0     NaN    NaN          NaN         NaN        NaN   \n",
       "432601    12423170       0     NaN    NaN          NaN         NaN        NaN   \n",
       "432602    15771439       0     NaN    NaN          NaN         NaN        NaN   \n",
       "\n",
       "        endocrine  genitourinary  infectious  ...  Urea Nitrogen  Bands  \\\n",
       "0             0.0            0.0         0.0  ...            NaN    NaN   \n",
       "1             0.0            0.0         0.0  ...            NaN    NaN   \n",
       "2             0.0            0.0         0.0  ...            NaN    NaN   \n",
       "3             0.0            0.0         0.0  ...            NaN    NaN   \n",
       "4             0.0            0.0         0.0  ...            NaN    NaN   \n",
       "...           ...            ...         ...  ...            ...    ...   \n",
       "432598        NaN            NaN         NaN  ...            NaN    NaN   \n",
       "432599        NaN            NaN         NaN  ...           17.0    NaN   \n",
       "432600        NaN            NaN         NaN  ...           31.0    NaN   \n",
       "432601        NaN            NaN         NaN  ...            NaN    NaN   \n",
       "432602        NaN            NaN         NaN  ...            NaN    NaN   \n",
       "\n",
       "        Hematocrit  Hemoglobin  INR(PT)  Platelet Count    PT   PTT  \\\n",
       "0             37.2        12.0      NaN           239.0   NaN   NaN   \n",
       "1              NaN         NaN      NaN             NaN   NaN   NaN   \n",
       "2             37.2        12.0      NaN           239.0   NaN   NaN   \n",
       "3              NaN         NaN      NaN             NaN   NaN   NaN   \n",
       "4             37.2        12.0      NaN           239.0   NaN   NaN   \n",
       "...            ...         ...      ...             ...   ...   ...   \n",
       "432598         NaN         NaN      NaN             NaN   NaN   NaN   \n",
       "432599        41.9        14.0      1.0           243.0  10.6  32.3   \n",
       "432600        36.4        11.7      1.1           197.0  11.5  33.0   \n",
       "432601         NaN         NaN      NaN             NaN   NaN   NaN   \n",
       "432602         NaN         NaN      1.0             NaN  11.0  26.3   \n",
       "\n",
       "        WBC Count  White Blood Cells  \n",
       "0             NaN                7.6  \n",
       "1             NaN                NaN  \n",
       "2             NaN                7.6  \n",
       "3             NaN                NaN  \n",
       "4             NaN                7.6  \n",
       "...           ...                ...  \n",
       "432598        NaN                NaN  \n",
       "432599        NaN                5.0  \n",
       "432600        NaN                4.7  \n",
       "432601        NaN                NaN  \n",
       "432602        NaN                NaN  \n",
       "\n",
       "[432603 rows x 43 columns]"
      ]
     },
     "execution_count": 210,
     "metadata": {},
     "output_type": "execute_result"
    }
   ],
   "source": [
    "bala = base_lab.drop(columns = ['Unnamed: 0','hadm_id','race','anchor_age','charttime'])\n",
    "bala"
   ]
  },
  {
   "cell_type": "code",
   "execution_count": 211,
   "id": "20ae2de4",
   "metadata": {},
   "outputs": [],
   "source": [
    "# fill the null value with 0, because if it's null, maybe the physicians don't think the patients need such biomedical test\n",
    "\n",
    "bala = bala.fillna (0)"
   ]
  },
  {
   "cell_type": "code",
   "execution_count": 212,
   "id": "03660c71",
   "metadata": {},
   "outputs": [],
   "source": [
    "bala ['starttime'] = pd.to_datetime (bala ['starttime'])"
   ]
  },
  {
   "cell_type": "code",
   "execution_count": 213,
   "id": "d094858e",
   "metadata": {},
   "outputs": [],
   "source": [
    "#group by subject_id and calculate the minimum datetime for each group\n",
    "\n",
    "min_starttime = bala.groupby ('subject_id') ['starttime'].min ()\n",
    "\n",
    "bala = bala.join (min_starttime, on='subject_id', rsuffix='_min')\n",
    "bala ['time'] = bala ['starttime'] - bala ['starttime_min']"
   ]
  },
  {
   "cell_type": "code",
   "execution_count": 214,
   "id": "f992d085",
   "metadata": {},
   "outputs": [
    {
     "name": "stdout",
     "output_type": "stream",
     "text": [
      "<class 'pandas.core.frame.DataFrame'>\n",
      "Int64Index: 432603 entries, 0 to 432602\n",
      "Data columns (total 45 columns):\n",
      " #   Column             Non-Null Count   Dtype          \n",
      "---  ------             --------------   -----          \n",
      " 0   subject_id         432603 non-null  int64          \n",
      " 1   recode             432603 non-null  int64          \n",
      " 2   gender             432603 non-null  float64        \n",
      " 3   blood              432603 non-null  float64        \n",
      " 4   circulatory        432603 non-null  float64        \n",
      " 5   congenital         432603 non-null  float64        \n",
      " 6   digestive          432603 non-null  float64        \n",
      " 7   endocrine          432603 non-null  float64        \n",
      " 8   genitourinary      432603 non-null  float64        \n",
      " 9   infectious         432603 non-null  float64        \n",
      " 10  injury             432603 non-null  float64        \n",
      " 11  mental             432603 non-null  float64        \n",
      " 12  misc               432603 non-null  float64        \n",
      " 13  muscular           432603 non-null  float64        \n",
      " 14  neoplasms          432603 non-null  float64        \n",
      " 15  nervous            432603 non-null  float64        \n",
      " 16  pregnancy          432603 non-null  float64        \n",
      " 17  prenatal           432603 non-null  float64        \n",
      " 18  respiratory        432603 non-null  float64        \n",
      " 19  skin               432603 non-null  float64        \n",
      " 20  systolic           432603 non-null  float64        \n",
      " 21  diastolic          432603 non-null  float64        \n",
      " 22  starttime          432603 non-null  datetime64[ns] \n",
      " 23  Lactate            432603 non-null  float64        \n",
      " 24  Albumin            432603 non-null  float64        \n",
      " 25  Anion Gap          432603 non-null  float64        \n",
      " 26  Bicarbonate        432603 non-null  float64        \n",
      " 27  Bilirubin, Total   432603 non-null  float64        \n",
      " 28  Chloride           432603 non-null  float64        \n",
      " 29  Creatinine         432603 non-null  float64        \n",
      " 30  Glucose            432603 non-null  float64        \n",
      " 31  Potassium          432603 non-null  float64        \n",
      " 32  Sodium             432603 non-null  float64        \n",
      " 33  Urea Nitrogen      432603 non-null  float64        \n",
      " 34  Bands              432603 non-null  float64        \n",
      " 35  Hematocrit         432603 non-null  float64        \n",
      " 36  Hemoglobin         432603 non-null  float64        \n",
      " 37  INR(PT)            432603 non-null  float64        \n",
      " 38  Platelet Count     432603 non-null  float64        \n",
      " 39  PT                 432603 non-null  float64        \n",
      " 40  PTT                432603 non-null  float64        \n",
      " 41  WBC Count          432603 non-null  float64        \n",
      " 42  White Blood Cells  432603 non-null  float64        \n",
      " 43  starttime_min      432603 non-null  datetime64[ns] \n",
      " 44  time               432603 non-null  timedelta64[ns]\n",
      "dtypes: datetime64[ns](2), float64(40), int64(2), timedelta64[ns](1)\n",
      "memory usage: 151.8 MB\n"
     ]
    }
   ],
   "source": [
    "bala.info()"
   ]
  },
  {
   "cell_type": "code",
   "execution_count": 215,
   "id": "af88a50d",
   "metadata": {},
   "outputs": [],
   "source": [
    "bala = bala.drop(columns = ['starttime','starttime_min','subject_id'])\n",
    "bala['recode'] = bala['recode'].astype(float)\n",
    "recode = bala['recode'].values\n"
   ]
  },
  {
   "cell_type": "code",
   "execution_count": 248,
   "id": "946c16e7",
   "metadata": {},
   "outputs": [],
   "source": [
    "bala_n = bala.sample(n = 400000)"
   ]
  },
  {
   "cell_type": "code",
   "execution_count": 249,
   "id": "a2468952",
   "metadata": {},
   "outputs": [
    {
     "data": {
      "text/plain": [
       "0 days 00:00:00       97027\n",
       "614 days 21:00:00      5298\n",
       "792 days 12:00:00      5154\n",
       "64 days 11:00:00       5108\n",
       "127 days 09:00:00      5069\n",
       "                      ...  \n",
       "52 days 19:00:00          1\n",
       "976 days 04:00:00         1\n",
       "977 days 04:00:00         1\n",
       "1472 days 18:00:00        1\n",
       "52 days 12:00:00          1\n",
       "Name: time, Length: 1293, dtype: int64"
      ]
     },
     "execution_count": 249,
     "metadata": {},
     "output_type": "execute_result"
    }
   ],
   "source": [
    "bala_n.time.value_counts(sort=True, ascending=False)"
   ]
  },
  {
   "cell_type": "code",
   "execution_count": 250,
   "id": "c251bdff",
   "metadata": {},
   "outputs": [],
   "source": [
    "\n",
    "max_time = pd.Timedelta ('0 days 04:00:00')\n",
    "#filter the DataFrame where diff column is less than or equal to max_time\n",
    "filtered_t = bala_n [bala_n ['time'] <= max_time]"
   ]
  },
  {
   "cell_type": "code",
   "execution_count": 251,
   "id": "11d1275c",
   "metadata": {},
   "outputs": [
    {
     "data": {
      "text/plain": [
       "0 days 00:00:00    97027\n",
       "0 days 01:00:00     1677\n",
       "0 days 03:00:00      793\n",
       "0 days 02:00:00      642\n",
       "0 days 04:00:00        5\n",
       "Name: time, dtype: int64"
      ]
     },
     "execution_count": 251,
     "metadata": {},
     "output_type": "execute_result"
    }
   ],
   "source": [
    "filtered_t.time.value_counts()"
   ]
  },
  {
   "cell_type": "markdown",
   "id": "236c1b11",
   "metadata": {},
   "source": [
    "# predict the event 1 hour ahead"
   ]
  },
  {
   "cell_type": "code",
   "execution_count": 252,
   "id": "cdf94037",
   "metadata": {},
   "outputs": [],
   "source": [
    "one_hour = pd.Timedelta ('0 days 01:00:00')\n",
    "filtered_t = filtered_t [filtered_t ['time'] == one_hour]\n",
    "filtered_t = filtered_t.drop(columns = ['time'])"
   ]
  },
  {
   "cell_type": "code",
   "execution_count": 253,
   "id": "4f60e90c",
   "metadata": {},
   "outputs": [],
   "source": [
    "features_1 = filtered_t.drop(columns = ['recode'])\n",
    "recode_1 = filtered_t.recode"
   ]
  },
  {
   "cell_type": "code",
   "execution_count": 254,
   "id": "59a81816",
   "metadata": {},
   "outputs": [
    {
     "name": "stdout",
     "output_type": "stream",
     "text": [
      "Training set has 1341 samples.\n",
      "Testing set has 336 samples.\n"
     ]
    }
   ],
   "source": [
    "from sklearn.model_selection import train_test_split\n",
    "\n",
    "# spliting the dataset into 20% test set and 80% train set\n",
    "X_train, X_test, y_train, y_test = train_test_split(features_1, \n",
    "                                                     recode_1,\n",
    "                                                    test_size = .20, \n",
    "                                                    random_state = 0)\n",
    "\n",
    "\n",
    "print(\"Training set has {} samples.\".format(X_train.shape[0]))\n",
    "print(\"Testing set has {} samples.\".format(X_test.shape[0]))"
   ]
  },
  {
   "cell_type": "code",
   "execution_count": 255,
   "id": "27172f67",
   "metadata": {},
   "outputs": [],
   "source": [
    "from sklearn.ensemble import RandomForestClassifier\n",
    "from sklearn.feature_selection import SelectFromModel\n",
    "from sklearn.model_selection import GridSearchCV\n",
    "clf = RandomForestClassifier(n_estimators=40, max_features='sqrt')\n",
    "clf = clf.fit(X_train, y_train)"
   ]
  },
  {
   "cell_type": "code",
   "execution_count": 256,
   "id": "85f1c06d",
   "metadata": {},
   "outputs": [],
   "source": [
    "features = pd.DataFrame()\n",
    "features['feature'] = X_train.columns\n",
    "features['importance'] = clf.feature_importances_\n",
    "features.sort_values(by=['importance'], ascending=True, inplace=True)\n",
    "features.set_index('feature', inplace=True)"
   ]
  },
  {
   "cell_type": "code",
   "execution_count": 257,
   "id": "861cfa32",
   "metadata": {},
   "outputs": [
    {
     "data": {
      "text/plain": [
       "<AxesSubplot:ylabel='feature'>"
      ]
     },
     "execution_count": 257,
     "metadata": {},
     "output_type": "execute_result"
    },
    {
     "data": {
      "image/png": "[encoded data removed]",
      "text/plain": [
       "<Figure size 2000x2000 with 1 Axes>"
      ]
     },
     "metadata": {},
     "output_type": "display_data"
    }
   ],
   "source": [
    "features.plot(kind='barh', figsize=(20, 20))"
   ]
  },
  {
   "cell_type": "code",
   "execution_count": 258,
   "id": "ba2ad3fe",
   "metadata": {},
   "outputs": [
    {
     "name": "stdout",
     "output_type": "stream",
     "text": [
      "204124    1.0\n",
      "235432    1.0\n",
      "181235    1.0\n",
      "11294     1.0\n",
      "5292      1.0\n",
      "98395     1.0\n",
      "235436    1.0\n",
      "151261    1.0\n",
      "7785      1.0\n",
      "10946     1.0\n",
      "Name: recode, dtype: float64\n",
      "[0.99992999 0.99990648 0.9989333  0.99999992 0.99999989 0.99997546\n",
      " 0.99999617 0.9981529  0.99871357 0.99999997]\n"
     ]
    }
   ],
   "source": [
    "from sklearn.linear_model import LogisticRegression\n",
    "\n",
    "# Logistic regression with tuned paramter C = 0.003\n",
    "clf=LogisticRegression(C = 0.003, penalty = 'l2', random_state = 42)\n",
    "clf.fit(X_train, y_train)\n",
    "\n",
    "model = clf\n",
    "y_train_preds = model.predict_proba(X_train)[:,1]\n",
    "y_test_preds = model.predict_proba(X_test)[:,1]\n",
    "print(y_train[:10])\n",
    "print(y_train_preds[:10])\n",
    "\n",
    "clf=LogisticRegression(C = 0.003, penalty = 'l2', random_state = 42)\n",
    "clf.fit(X_train, y_train)\n",
    "model = clf"
   ]
  },
  {
   "cell_type": "code",
   "execution_count": 259,
   "id": "4bd10d5c",
   "metadata": {},
   "outputs": [
    {
     "name": "stdout",
     "output_type": "stream",
     "text": [
      "Feature: 0, Score: -0.00200\n",
      "Feature: 1, Score: 0.00000\n",
      "Feature: 2, Score: 0.00628\n",
      "Feature: 3, Score: 0.00000\n",
      "Feature: 4, Score: 0.00000\n",
      "Feature: 5, Score: -0.00635\n",
      "Feature: 6, Score: 0.00000\n",
      "Feature: 7, Score: 0.00000\n",
      "Feature: 8, Score: 0.00649\n",
      "Feature: 9, Score: 0.00000\n",
      "Feature: 10, Score: -0.00353\n",
      "Feature: 11, Score: 0.00000\n",
      "Feature: 12, Score: 0.00007\n",
      "Feature: 13, Score: 0.00000\n",
      "Feature: 14, Score: 0.00000\n",
      "Feature: 15, Score: 0.00000\n",
      "Feature: 16, Score: -0.00649\n",
      "Feature: 17, Score: 0.00000\n",
      "Feature: 18, Score: 0.07332\n",
      "Feature: 19, Score: 0.02318\n",
      "Feature: 20, Score: 0.00000\n",
      "Feature: 21, Score: 0.00000\n",
      "Feature: 22, Score: -0.02387\n",
      "Feature: 23, Score: -0.03764\n",
      "Feature: 24, Score: 0.00027\n",
      "Feature: 25, Score: -0.00672\n",
      "Feature: 26, Score: 0.00449\n",
      "Feature: 27, Score: 0.02692\n",
      "Feature: 28, Score: -0.01266\n",
      "Feature: 29, Score: 0.02233\n",
      "Feature: 30, Score: -0.04817\n",
      "Feature: 31, Score: 0.00000\n",
      "Feature: 32, Score: 0.01907\n",
      "Feature: 33, Score: 0.00677\n",
      "Feature: 34, Score: -0.01207\n",
      "Feature: 35, Score: 0.03556\n",
      "Feature: 36, Score: -0.13269\n",
      "Feature: 37, Score: 0.00504\n",
      "Feature: 38, Score: 0.00000\n",
      "Feature: 39, Score: 0.00129\n"
     ]
    },
    {
     "data": {
      "image/png": "[encoded data removed]",
      "text/plain": [
       "<Figure size 640x480 with 1 Axes>"
      ]
     },
     "metadata": {},
     "output_type": "display_data"
    }
   ],
   "source": [
    "from matplotlib import pyplot\n",
    "\n",
    "# get importance\n",
    "importance = model.coef_[0]\n",
    "\n",
    "for i,v in enumerate(importance):\n",
    "\tprint('Feature: %0d, Score: %.5f' % (i,v))\n",
    "# plot feature importance with a bar chart\n",
    "pyplot.bar([x for x in range(len(importance))], importance)\n",
    "pyplot.show()"
   ]
  },
  {
   "cell_type": "code",
   "execution_count": 261,
   "id": "cee68c27",
   "metadata": {},
   "outputs": [
    {
     "name": "stdout",
     "output_type": "stream",
     "text": [
      "PT\n"
     ]
    }
   ],
   "source": [
    "# feature could strongly predict onset event 1 hour ahead\n",
    "print(features_1.columns[36])"
   ]
  },
  {
   "cell_type": "markdown",
   "id": "381dc4fb",
   "metadata": {},
   "source": [
    "# predict the event 2 hour ahead"
   ]
  },
  {
   "cell_type": "code",
   "execution_count": 262,
   "id": "0cca20d7",
   "metadata": {},
   "outputs": [],
   "source": [
    "\n",
    "max_time = pd.Timedelta ('0 days 04:00:00')\n",
    "#filter the DataFrame where diff column is less than or equal to max_time\n",
    "filtered_t = bala_n [bala_n ['time'] <= max_time]"
   ]
  },
  {
   "cell_type": "code",
   "execution_count": 263,
   "id": "b79e677f",
   "metadata": {},
   "outputs": [],
   "source": [
    "two_hour = pd.Timedelta ('0 days 02:00:00')\n",
    "filtered_t = filtered_t [filtered_t ['time'] == two_hour]\n",
    "filtered_t = filtered_t.drop(columns = ['time'])"
   ]
  },
  {
   "cell_type": "code",
   "execution_count": 264,
   "id": "28b609b4",
   "metadata": {},
   "outputs": [],
   "source": [
    "features_2 = filtered_t.drop(columns = ['recode'])\n",
    "recode_2 = filtered_t.recode"
   ]
  },
  {
   "cell_type": "code",
   "execution_count": 265,
   "id": "f93a6a19",
   "metadata": {},
   "outputs": [
    {
     "name": "stdout",
     "output_type": "stream",
     "text": [
      "Training set has 513 samples.\n",
      "Testing set has 129 samples.\n"
     ]
    }
   ],
   "source": [
    "from sklearn.model_selection import train_test_split\n",
    "\n",
    "# spliting the dataset into 20% test set and 80% train set\n",
    "X_train, X_test, y_train, y_test = train_test_split(features_2, \n",
    "                                                     recode_2,\n",
    "                                                    test_size = .20, \n",
    "                                                    random_state = 0)\n",
    "\n",
    "\n",
    "print(\"Training set has {} samples.\".format(X_train.shape[0]))\n",
    "print(\"Testing set has {} samples.\".format(X_test.shape[0]))"
   ]
  },
  {
   "cell_type": "code",
   "execution_count": 266,
   "id": "3b3c0060",
   "metadata": {},
   "outputs": [],
   "source": [
    "from sklearn.ensemble import RandomForestClassifier\n",
    "from sklearn.feature_selection import SelectFromModel\n",
    "from sklearn.model_selection import GridSearchCV\n",
    "clf = RandomForestClassifier(n_estimators=40, max_features='sqrt')\n",
    "clf = clf.fit(X_train, y_train)"
   ]
  },
  {
   "cell_type": "code",
   "execution_count": 267,
   "id": "6eeb8172",
   "metadata": {},
   "outputs": [],
   "source": [
    "features = pd.DataFrame()\n",
    "features['feature'] = X_train.columns\n",
    "features['importance'] = clf.feature_importances_\n",
    "features.sort_values(by=['importance'], ascending=True, inplace=True)\n",
    "features.set_index('feature', inplace=True)"
   ]
  },
  {
   "cell_type": "code",
   "execution_count": 268,
   "id": "a94276cf",
   "metadata": {},
   "outputs": [
    {
     "data": {
      "text/plain": [
       "<AxesSubplot:ylabel='feature'>"
      ]
     },
     "execution_count": 268,
     "metadata": {},
     "output_type": "execute_result"
    },
    {
     "data": {
      "image/png": "[encoded data removed]",
      "text/plain": [
       "<Figure size 2000x2000 with 1 Axes>"
      ]
     },
     "metadata": {},
     "output_type": "display_data"
    }
   ],
   "source": [
    "features.plot(kind='barh', figsize=(20, 20))"
   ]
  },
  {
   "cell_type": "code",
   "execution_count": 269,
   "id": "6df463c7",
   "metadata": {},
   "outputs": [
    {
     "name": "stdout",
     "output_type": "stream",
     "text": [
      "286157    0.0\n",
      "291355    0.0\n",
      "305843    0.0\n",
      "319140    0.0\n",
      "305777    0.0\n",
      "308990    0.0\n",
      "319187    0.0\n",
      "306238    0.0\n",
      "301568    0.0\n",
      "317033    0.0\n",
      "Name: recode, dtype: float64\n",
      "[1.40206927e-04 1.36844522e-04 1.50768619e-04 7.45156540e-05\n",
      " 1.57772901e-04 8.65121455e-05 1.42453591e-04 9.17014376e-05\n",
      " 8.95789278e-05 1.48038535e-04]\n"
     ]
    }
   ],
   "source": [
    "from sklearn.linear_model import LogisticRegression\n",
    "\n",
    "# Logistic regression with tuned paramter C = 0.003\n",
    "clf=LogisticRegression(C = 0.003, penalty = 'l2', random_state = 42)\n",
    "clf.fit(X_train, y_train)\n",
    "\n",
    "model = clf\n",
    "y_train_preds = model.predict_proba(X_train)[:,1]\n",
    "y_test_preds = model.predict_proba(X_test)[:,1]\n",
    "print(y_train[:10])\n",
    "print(y_train_preds[:10])\n",
    "\n",
    "clf=LogisticRegression(C = 0.003, penalty = 'l2', random_state = 42)\n",
    "clf.fit(X_train, y_train)\n",
    "model = clf"
   ]
  },
  {
   "cell_type": "code",
   "execution_count": 270,
   "id": "72c6237d",
   "metadata": {},
   "outputs": [
    {
     "name": "stdout",
     "output_type": "stream",
     "text": [
      "Feature: 0, Score: -0.00000\n",
      "Feature: 1, Score: 0.00000\n",
      "Feature: 2, Score: 0.00003\n",
      "Feature: 3, Score: 0.00000\n",
      "Feature: 4, Score: 0.00000\n",
      "Feature: 5, Score: -0.00000\n",
      "Feature: 6, Score: -0.00017\n",
      "Feature: 7, Score: 0.00000\n",
      "Feature: 8, Score: 0.00061\n",
      "Feature: 9, Score: -0.00017\n",
      "Feature: 10, Score: -0.00011\n",
      "Feature: 11, Score: 0.00000\n",
      "Feature: 12, Score: 0.00000\n",
      "Feature: 13, Score: 0.00000\n",
      "Feature: 14, Score: 0.00000\n",
      "Feature: 15, Score: 0.00000\n",
      "Feature: 16, Score: -0.00036\n",
      "Feature: 17, Score: 0.00000\n",
      "Feature: 18, Score: 0.00419\n",
      "Feature: 19, Score: 0.00333\n",
      "Feature: 20, Score: 0.00000\n",
      "Feature: 21, Score: 0.00000\n",
      "Feature: 22, Score: -0.00489\n",
      "Feature: 23, Score: -0.00843\n",
      "Feature: 24, Score: 0.00000\n",
      "Feature: 25, Score: -0.03556\n",
      "Feature: 26, Score: -0.00028\n",
      "Feature: 27, Score: -0.01997\n",
      "Feature: 28, Score: -0.00190\n",
      "Feature: 29, Score: -0.04687\n",
      "Feature: 30, Score: -0.00751\n",
      "Feature: 31, Score: 0.00000\n",
      "Feature: 32, Score: -0.00196\n",
      "Feature: 33, Score: -0.00069\n",
      "Feature: 34, Score: -0.00042\n",
      "Feature: 35, Score: -0.01558\n",
      "Feature: 36, Score: -0.00469\n",
      "Feature: 37, Score: -0.00167\n",
      "Feature: 38, Score: 0.00000\n",
      "Feature: 39, Score: -0.00124\n"
     ]
    },
    {
     "data": {
      "image/png": "[encoded data removed]",
      "text/plain": [
       "<Figure size 640x480 with 1 Axes>"
      ]
     },
     "metadata": {},
     "output_type": "display_data"
    }
   ],
   "source": [
    "from matplotlib import pyplot\n",
    "\n",
    "# get importance\n",
    "importance = model.coef_[0]\n",
    "\n",
    "for i,v in enumerate(importance):\n",
    "\tprint('Feature: %0d, Score: %.5f' % (i,v))\n",
    "# plot feature importance with a bar chart\n",
    "pyplot.bar([x for x in range(len(importance))], importance)\n",
    "pyplot.show()"
   ]
  },
  {
   "cell_type": "code",
   "execution_count": 271,
   "id": "e5bc402c",
   "metadata": {},
   "outputs": [
    {
     "name": "stdout",
     "output_type": "stream",
     "text": [
      "Sodium\n"
     ]
    }
   ],
   "source": [
    "# feature could strongly predict onset event 2 hour ahead\n",
    "print(features_2.columns[29])"
   ]
  },
  {
   "cell_type": "markdown",
   "id": "9df94fa8",
   "metadata": {},
   "source": [
    "# predict the event 3 hour ahead"
   ]
  },
  {
   "cell_type": "code",
   "execution_count": 272,
   "id": "21e4d103",
   "metadata": {},
   "outputs": [],
   "source": [
    "\n",
    "max_time = pd.Timedelta ('0 days 04:00:00')\n",
    "#filter the DataFrame where diff column is less than or equal to max_time\n",
    "filtered_t = bala_n [bala_n ['time'] <= max_time]"
   ]
  },
  {
   "cell_type": "code",
   "execution_count": 273,
   "id": "3e151eba",
   "metadata": {},
   "outputs": [],
   "source": [
    "three_hour = pd.Timedelta ('0 days 03:00:00')\n",
    "filtered_t = filtered_t [filtered_t ['time'] == three_hour]\n",
    "filtered_t = filtered_t.drop(columns = ['time'])"
   ]
  },
  {
   "cell_type": "code",
   "execution_count": 274,
   "id": "b38b8dac",
   "metadata": {},
   "outputs": [],
   "source": [
    "features_3 = filtered_t.drop(columns = ['recode'])\n",
    "recode_3 = filtered_t.recode"
   ]
  },
  {
   "cell_type": "code",
   "execution_count": 275,
   "id": "dc2303a1",
   "metadata": {},
   "outputs": [
    {
     "data": {
      "text/plain": [
       "1.0    793\n",
       "Name: recode, dtype: int64"
      ]
     },
     "execution_count": 275,
     "metadata": {},
     "output_type": "execute_result"
    }
   ],
   "source": [
    "recode_3.value_counts()"
   ]
  },
  {
   "cell_type": "code",
   "execution_count": 276,
   "id": "99826bba",
   "metadata": {},
   "outputs": [],
   "source": [
    "## because of the value of recode_3 is == 1.0, it means all the patients will be diagnoses as Spesis, so maybe the original data has some \n",
    "## special operations that leads to this result"
   ]
  },
  {
   "cell_type": "markdown",
   "id": "25c0012c",
   "metadata": {},
   "source": [
    "## predict the event 4 hour ahead"
   ]
  },
  {
   "cell_type": "code",
   "execution_count": 277,
   "id": "c73b4cef",
   "metadata": {},
   "outputs": [],
   "source": [
    "\n",
    "max_time = pd.Timedelta ('0 days 04:00:00')\n",
    "#filter the DataFrame where diff column is less than or equal to max_time\n",
    "filtered_t = bala_n [bala_n ['time'] <= max_time]"
   ]
  },
  {
   "cell_type": "code",
   "execution_count": 278,
   "id": "186c3fef",
   "metadata": {},
   "outputs": [],
   "source": [
    "four_hour = pd.Timedelta ('0 days 04:00:00')\n",
    "filtered_t = filtered_t [filtered_t ['time'] == four_hour]\n",
    "filtered_t = filtered_t.drop(columns = ['time'])"
   ]
  },
  {
   "cell_type": "code",
   "execution_count": 279,
   "id": "cfafce20",
   "metadata": {},
   "outputs": [],
   "source": [
    "features_4 = filtered_t.drop(columns = ['recode'])\n",
    "recode_4 = filtered_t.recode"
   ]
  },
  {
   "cell_type": "code",
   "execution_count": 280,
   "id": "e3ecdd9e",
   "metadata": {},
   "outputs": [
    {
     "data": {
      "text/plain": [
       "1.0    5\n",
       "Name: recode, dtype: int64"
      ]
     },
     "execution_count": 280,
     "metadata": {},
     "output_type": "execute_result"
    }
   ],
   "source": [
    "recode_4.value_counts()"
   ]
  },
  {
   "cell_type": "code",
   "execution_count": 281,
   "id": "312497d0",
   "metadata": {},
   "outputs": [],
   "source": [
    "## it is the same circumstance of 3 hours, the value of recode_4 is == 1.0, it means all the patients will be diagnoses as Spesis"
   ]
  }
 ],
 "metadata": {
  "kernelspec": {
   "display_name": "Python 3 (ipykernel)",
   "language": "python",
   "name": "python3"
  },
  "language_info": {
   "codemirror_mode": {
    "name": "ipython",
    "version": 3
   },
   "file_extension": ".py",
   "mimetype": "text/x-python",
   "name": "python",
   "nbconvert_exporter": "python",
   "pygments_lexer": "ipython3",
   "version": "3.9.13"
  }
 },
 "nbformat": 4,
 "nbformat_minor": 5
}
